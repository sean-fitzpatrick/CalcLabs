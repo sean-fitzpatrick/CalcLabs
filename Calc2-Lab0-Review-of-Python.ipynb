{
 "cells": [
  {
   "cell_type": "markdown",
   "id": "4e45f2b9",
   "metadata": {},
   "source": [
    "# Lab 0: Numpy and Sympy for Calculus\n",
    "\n",
    "Two useful packages for doing calculus in Python are Numpy (which allows for numerical computations) and Sympy (which supports symbolic manipulation). These can be used without any prior experience programming in Python (or at all), especially in the Jupyter notebook format, where code snippets can be provided for you to edit and run as needed.\n",
    "\n",
    "A Jupyter notebook (such as this one) has two types of content: code cells, which contain Python code, and Markdown cells, which contain text that is formatted using Markdown.\n",
    "\n",
    "To edit any text in a Jupyter notebook, **double-click on it**. To create a new cell, click the $+$ button in the toolbar above. By default, a new cell is a code cell. To change it to Markdown, use the drop-down menu in the toolbar.\n",
    "\n",
    "To save (and render) a Markdown cell, or to execute a code cell, either hit `Shift+Enter` on the keyboard, or click the Run button in the toolbar. For help with Markdown formatting, you may find [this markdown cheat-sheet](https://www.markdownguide.org/cheat-sheet/) useful. You can type mathematics in a Markdown cell using [LaTeX syntax](https://en.wikibooks.org/wiki/LaTeX/Mathematics). To enter mathematics, wrap it in `$` delimiters. For example, `$\\sin(4\\pi/3)=-\\frac{\\sqrt{3}}{2}$` produces $\\sin(4\\pi/3)=-\\frac{\\sqrt{3}}{2}$. If we use `$$` delimiters, we get \"display math\" on its own line:\n",
    "\n",
    "$$\n",
    "\\sin(4\\pi/3)=-\\frac{\\sqrt{3}}{2}\n",
    "$$\n",
    "\n",
    "A great resource for using Python in mathematics is the [website of Patrick Walls at UBC](https://personal.math.ubc.ca/~pwalls/math-python/). In particular, you will find resources there on how to do root finding, numerical integration, and differential equations."
   ]
  },
  {
   "cell_type": "markdown",
   "id": "5aa17144",
   "metadata": {},
   "source": [
    "## Numpy\n",
    "\n",
    "Often Numpy is used together with Matplotlib: we load these into Python as follows:"
   ]
  },
  {
   "cell_type": "code",
   "execution_count": null,
   "id": "cb031691",
   "metadata": {},
   "outputs": [],
   "source": [
    "import numpy as np\n",
    "import matplotlib.pyplot as plt\n",
    "%matplotlib inline"
   ]
  },
  {
   "cell_type": "markdown",
   "id": "b9435daa",
   "metadata": {},
   "source": [
    "The `import as` creates a prefix that allows us to call functions specific to each library. This can be important when multiple Python libraries are in use, because each might have a different definition of a particular function.\n",
    "\n",
    "Numpy defines all the common [mathematical functions](https://numpy.org/doc/stable/reference/routines.math.html) you'll need, such as the sine function. We would call the function $\\sin(x)$ using `np.sin` (note the `np` prefix). To calculate the sine of the angle $\\pi/3$, try entering `np.sin(pi/3)` in the code cell below, and then running the cell."
   ]
  },
  {
   "cell_type": "code",
   "execution_count": null,
   "id": "712e87fe",
   "metadata": {},
   "outputs": [],
   "source": []
  },
  {
   "cell_type": "markdown",
   "id": "ab0ca642",
   "metadata": {},
   "source": [
    "Did that not work? It's because `pi` is not a core object in Python! It's defined in Numpy though. Try replacing `pi` with `np.pi` and re-running the cell above.\n",
    "\n",
    "Now let's try plotting. First we have to define a function to plot."
   ]
  },
  {
   "cell_type": "code",
   "execution_count": null,
   "id": "19fafb34",
   "metadata": {
    "hidden": false
   },
   "outputs": [],
   "source": [
    "def f(x):\n",
    "    return np.sin(x)"
   ]
  },
  {
   "cell_type": "markdown",
   "id": "7559bc0d",
   "metadata": {
    "hidden": false
   },
   "source": [
    "A faster (but maybe more confusing) way to define our function is to use Python's `lambda` syntax. We also could have done\n",
    "```\n",
    "f = lambda x : np.sin(x)\n",
    "```\n",
    "\n",
    "Plotting takes more than just defining the function -- we also have to define the input and output variables!\n",
    "\n",
    "The `linspace` command in Numpy produces a set of evenly spaced values. In other words, `np.linspace(a,b,n)` creates a **uniform partition** of the interval $[a, b]$ into $n$ subintervals. The result is a NumPy array that stores the partition points. Here's how we set 100 points between $-\\pi$ and $\\pi$:"
   ]
  },
  {
   "cell_type": "code",
   "execution_count": null,
   "id": "b4a41bc3",
   "metadata": {
    "hidden": false
   },
   "outputs": [],
   "source": [
    "x = np.linspace(-np.pi,np.pi,100)"
   ]
  },
  {
   "cell_type": "markdown",
   "id": "97f9aed0",
   "metadata": {
    "hidden": false
   },
   "source": [
    "Next, we can define $y$ as a function of $x$, and plot."
   ]
  },
  {
   "cell_type": "code",
   "execution_count": null,
   "id": "70782ea7",
   "metadata": {
    "hidden": false
   },
   "outputs": [],
   "source": [
    "y = f(x)\n",
    "plt.plot(x,y)"
   ]
  },
  {
   "cell_type": "markdown",
   "id": "dd03f1c8",
   "metadata": {},
   "source": [
    "Numpy has a lot of powerful numerical tools for doing linear algebra, but since Math 1410 is not officially a prerequisite for Math 2565, we won't describe those here."
   ]
  },
  {
   "cell_type": "markdown",
   "id": "1a0775ad",
   "metadata": {},
   "source": [
    "### Exercise 1\n",
    "\n",
    "Plot  $\\tan(x)$ for $x \\in [-\\pi, \\pi]$."
   ]
  },
  {
   "cell_type": "code",
   "execution_count": null,
   "id": "cfa68699",
   "metadata": {},
   "outputs": [],
   "source": []
  },
  {
   "cell_type": "markdown",
   "id": "e46d8c77",
   "metadata": {},
   "source": [
    "Does your graph look incorrect? It should! Remember that NumPy is a **numerical** library. It's creating the graph by plotting the points $(x_i,y_i)$, where $x_i$ is a point in the `linspace` partition, and $y_i=f(x_i)$. It has no way of determining the existence of a vertical asymptote! If $x_i$ is close to the asymptote, you'll see a spike, due to the corresponding large value of $y_i$. But if you happened to end up with $x_i$ **on** the asymptote, you'd get a division by zero error!"
   ]
  },
  {
   "cell_type": "markdown",
   "id": "f1ef6364",
   "metadata": {},
   "source": [
    "## Newton's Method\n",
    "\n",
    "Recall **Newton's method** for finding roots (zeros) of functions:\n",
    "\n",
    "Initial data:\n",
    "- a function $f(x)$ on an interval $[a, b]$\n",
    "- an initial guess $x_0\\in [a, b]$\n",
    "\n",
    "Given this data, we construct the tangent line to $y=f(x)$ at the point $(x_0,f(x_0))$:\n",
    "\n",
    "$$y=f(x_0)+f'(x_0)(x-x_0)$$\n",
    "\n",
    "We want the point where this line meets the $x$ axis. Setting $y=0$, we find\n",
    "\n",
    "$$x = x_0-\\frac{f(x_0)}{f'(x_0)}.$$\n",
    "\n",
    "![The first step in Newton's method: the tangent at (x_0,y_0) meets the x axis at (x_1,0).](https://opentext.uleth.ca/apex-calculus/generated/latex-image/img_newt1a.svg)\n",
    "\n",
    "Note that it is very important that $x_0$ is **not a critical point**! (Why?)\n",
    "\n",
    "We call the value we just found $x_1$, and then repeat. In most cases, Newton's Method converges quickly to a root of our function. (In some cases, a poor choice of $x_0$ can lead to results getting further and further away.)"
   ]
  },
  {
   "cell_type": "markdown",
   "id": "80b0bf5f",
   "metadata": {},
   "source": [
    "### Exercise 2\n",
    "\n",
    "We are going to develop an algorithm to implement Newton's method. This will work with core Python, even if you do not import the NumPy library.\n",
    "\n",
    "For now, we will keep things simple, and use a pre-determined number of steps. Recall that to run a `for` loop in Python with `n` steps, we use the syntax `for i in range(n):`. We will also hard-code the function and its derivative. Later, we will learn how to use SymPy to compute derivatives (and, if necessary, convert that SymPy derivative into a NumPy function).\n",
    "\n",
    "To avoid conflict with the work we did above, we will call our function `g(x)`. If you want to use `f(x)`, you can, but beware that if you re-run any of the earlier cells, they will use the new definition of `f(x)`.\n",
    "\n",
    "**Problem**: find a root of $g(x)=x^3+x-5$ on the interval $[0,2]$, using initial guess $x_0=1$.\n",
    "\n",
    "*Aside*: why do you know there must be a root on this interval?\n",
    "\n",
    "Here is your initial setup:"
   ]
  },
  {
   "cell_type": "code",
   "execution_count": null,
   "id": "4ec9193c",
   "metadata": {},
   "outputs": [],
   "source": [
    "def g(x):\n",
    "    return x**3+x-5\n",
    "def gprime(x):\n",
    "    return 3*x**2+1\n",
    "xval=[1]"
   ]
  },
  {
   "cell_type": "markdown",
   "id": "7817a365",
   "metadata": {},
   "source": [
    "Note that `values` is an array, containing a single element, which is our initial guess, $x_0$:"
   ]
  },
  {
   "cell_type": "code",
   "execution_count": null,
   "id": "aaa7e2b0",
   "metadata": {},
   "outputs": [],
   "source": [
    "print(values[0])"
   ]
  },
  {
   "cell_type": "markdown",
   "id": "37160095",
   "metadata": {},
   "source": [
    "The reason we use an array is that in a `for` loop with index `i`, Python will not understand a variable like `x_i`. But if we make `x` into a list, then we can reference the list entries: `x[i]` is understood.\n",
    "\n",
    "In the cell below, create a `for` loop that will create a list containing the next 6 values determined by Newton's method. Some hints:\n",
    "- begin with the line `for i in range(6):` (and keep the indentation that will be automatically inserted)\n",
    "- recall that you can add the next entry in the `xval` array using the syntax `xval.append()`, where the parentheses should contain a formula used to determine the next value\n",
    "- the formula you want is the Newton's method formula given above!\n",
    "- your last line should be `print(values)`\n",
    "- if you have more than 3 lines, you've done too much work"
   ]
  },
  {
   "cell_type": "code",
   "execution_count": null,
   "id": "4a5ab2ba",
   "metadata": {},
   "outputs": [],
   "source": []
  },
  {
   "cell_type": "markdown",
   "id": "a550848d",
   "metadata": {},
   "source": [
    "### Exercise 3\n",
    "\n",
    "This time, we'll get a little bit fancier. Generally, when using Newton's method, you want to continue until you've found a value for your root to a specified degree of accuracy. The way you know that you have, for example, the first 5 decimal places correct is if the first 5 decimal places do not change when you increment from $x_i$ to $x_{i+1}$.\n",
    "\n",
    "Since we generally do not know how many steps this will take, we will use a `while` loop instead of a `for` loop.\n",
    "\n",
    "If we want 5 decimal places correct, then we want $|x_i - x_{i+1}|<0.000001$ for some $i$. (Probably $0.000005$ would do, but let's play it safe.) We will use NumPy to provide the absolute value: the function is `np.abs()`.\n",
    "\n",
    "First, some initial setup:"
   ]
  },
  {
   "cell_type": "code",
   "execution_count": null,
   "id": "17502dc2",
   "metadata": {},
   "outputs": [],
   "source": [
    "import numpy as np\n",
    "xval=[0,1]\n",
    "i=1\n",
    "tolerance=0.000001"
   ]
  },
  {
   "cell_type": "markdown",
   "id": "887020ff",
   "metadata": {},
   "source": [
    "Since we need to compute a difference of two terms, we need to initialize our array with two terms rather than one. The `i=1` line initializes our index, and we've set the tolerance to 5 decimal places.\n",
    "\n",
    "The syntax of a `while` loop looks like:\n",
    "```\n",
    "while <some condition>:\n",
    "    <some step, or sequence of steps>\n",
    "    i+=1\n",
    "```\n",
    "The last line adds one to the index; otherwise, your `while` loop will run forever!\n",
    "\n",
    "- The condition you're going to want will be an inequality comparing the absolute value of $x_i-x_{i+1}$ to the tolerance\n",
    "- The step you're going to want to execute is the same as it was in Exercise 2: append the next value to the `xval` array\n",
    "- below the `while` loop, you'll again want to print the `xval` array, or possibly the last term in the `xval` array, which you can access using the syntax `xval[-1:]`\n",
    "\n",
    "**Problem**: construct a while loop that gives the value of the root from Exercise 2, accurate to 7 decimal places.\n",
    "\n",
    "*Note*: you will need to adjust the value of `tolerance` above! Your output will also contain more than 7 decimal places, so adjust your answer accordingly."
   ]
  },
  {
   "cell_type": "code",
   "execution_count": null,
   "id": "9f214a1b",
   "metadata": {},
   "outputs": [],
   "source": []
  },
  {
   "cell_type": "markdown",
   "id": "07abc1af",
   "metadata": {},
   "source": [
    "**Challenge**: Python provides a `round()` function for rounding to a certain number of decimal places. But the output from your while loop will be considered a list, not a floating point number.\n",
    "\n",
    "Can you find a way to convert your list value to a floating point value so that you can round to the desired number of decimals?"
   ]
  },
  {
   "cell_type": "code",
   "execution_count": null,
   "id": "862f30fb",
   "metadata": {},
   "outputs": [],
   "source": []
  },
  {
   "cell_type": "markdown",
   "id": "d524e775",
   "metadata": {
    "hidden": false
   },
   "source": [
    "## SymPy\n",
    "\n",
    "SymPy allows for symbolic manipulation. It's also really nice to use in a Jupyter notebook, because you can get the output to display as nicely formatted mathematics, using the `init_printing()` function."
   ]
  },
  {
   "cell_type": "code",
   "execution_count": null,
   "id": "c1f5eb3b",
   "metadata": {
    "hidden": false
   },
   "outputs": [],
   "source": [
    "import sympy as sy\n",
    "sy.init_printing()"
   ]
  },
  {
   "cell_type": "markdown",
   "id": "10baef0e",
   "metadata": {
    "hidden": false
   },
   "source": [
    "A common first step is to tell SymPy that you're going to use x and y as variables:"
   ]
  },
  {
   "cell_type": "code",
   "execution_count": null,
   "id": "cbdbde16",
   "metadata": {
    "hidden": false
   },
   "outputs": [],
   "source": [
    "x, y = sy.symbols('x y')"
   ]
  },
  {
   "cell_type": "markdown",
   "id": "2a98a127",
   "metadata": {
    "hidden": false
   },
   "source": [
    "When using mathematical functions, we need to make sure we're using the SymPy version. We can define functions of one or more variables:"
   ]
  },
  {
   "cell_type": "code",
   "execution_count": null,
   "id": "a1135f98",
   "metadata": {
    "hidden": false
   },
   "outputs": [],
   "source": [
    "f = (x**2)*sy.sin(2*x)\n",
    "g = x*y*sy.exp(4*x*y)\n",
    "f,g"
   ]
  },
  {
   "cell_type": "markdown",
   "id": "c4473cc7",
   "metadata": {
    "hidden": false
   },
   "source": [
    "Note the use of `*` for **any** multiplication, and `**` for exponents. We can take derivatives:"
   ]
  },
  {
   "cell_type": "code",
   "execution_count": null,
   "id": "8cc583a0",
   "metadata": {
    "hidden": false
   },
   "outputs": [],
   "source": [
    "sy.diff(f,x)"
   ]
  },
  {
   "cell_type": "code",
   "execution_count": null,
   "id": "3e634bcd",
   "metadata": {
    "hidden": false
   },
   "outputs": [],
   "source": [
    "sy.diff(f,x,x)"
   ]
  },
  {
   "cell_type": "code",
   "execution_count": null,
   "id": "ef96b0a5",
   "metadata": {
    "hidden": false
   },
   "outputs": [],
   "source": [
    "sy.diff(g,x)"
   ]
  },
  {
   "cell_type": "code",
   "execution_count": null,
   "id": "96c37a48",
   "metadata": {
    "hidden": false
   },
   "outputs": [],
   "source": [
    "sy.diff(g,y)"
   ]
  },
  {
   "cell_type": "code",
   "execution_count": null,
   "id": "127881a8",
   "metadata": {
    "hidden": false
   },
   "outputs": [],
   "source": [
    "sy.diff(g,x,y)-sy.diff(g,y,x)"
   ]
  },
  {
   "cell_type": "markdown",
   "id": "5041678e",
   "metadata": {
    "hidden": false
   },
   "source": [
    "Note that for the function $g(x,y) = xye^{4xy}$ those are partial derivatives, and the fact that that last line is zero is a theorem!\n",
    "\n",
    "To do indefinite integrals, we just use the `integrate` command. We need to specify a function and the integration variable."
   ]
  },
  {
   "cell_type": "code",
   "execution_count": null,
   "id": "ce9531df",
   "metadata": {
    "hidden": false
   },
   "outputs": [],
   "source": [
    "sy.integrate(f,x)"
   ]
  },
  {
   "cell_type": "markdown",
   "id": "50183197",
   "metadata": {
    "hidden": false
   },
   "source": [
    "(Yes, that's some integration by parts you're seeing there!)\n",
    "\n",
    "For definite integrals, we just have to add in the limits of integration. But note that we need to enter the ordered triple `(x.0,sy.pi/2)`. This time, $\\pi$ comes from SymPy, not Numpy:"
   ]
  },
  {
   "cell_type": "code",
   "execution_count": null,
   "id": "abe372ac",
   "metadata": {
    "hidden": false
   },
   "outputs": [],
   "source": [
    "sy.integrate(f,(x,0,sy.pi/2))"
   ]
  },
  {
   "cell_type": "markdown",
   "id": "c4cf0ee8",
   "metadata": {
    "hidden": false
   },
   "source": [
    "Just for fun: try changing `sp.pi` to `np.pi`. What happens to your output?"
   ]
  },
  {
   "cell_type": "code",
   "execution_count": null,
   "id": "2c725e58",
   "metadata": {},
   "outputs": [],
   "source": []
  },
  {
   "cell_type": "markdown",
   "id": "a633aac9",
   "metadata": {},
   "source": [
    "We can also plot using SymPy. The basic command is quite simple: `plot(f)`."
   ]
  },
  {
   "cell_type": "code",
   "execution_count": null,
   "id": "0d84b15c",
   "metadata": {
    "hidden": false
   },
   "outputs": [],
   "source": [
    "sy.plot(f)"
   ]
  },
  {
   "cell_type": "markdown",
   "id": "ccd03451",
   "metadata": {},
   "source": [
    "You can modify the plot in many ways. For example, to specify a domain, we can write something like `plot(f,(x,-2,2))`. For more advanced features, such as adding labels and colours, see the [SymPy documentation](https://docs.sympy.org/latest/modules/plotting.html).\n",
    "\n",
    "To plot more than one graph on the same axes, we need to store each graph, and then combine them. When we first enter the plots, we don't want them to show, so we use the `show=False` option. The first way to combine the plots is with the `append` command. The `[0]` is there because the object `plot(f,show=False)` contains two entries in a list: `f`, and `show=False`, and we want the first of these."
   ]
  },
  {
   "cell_type": "code",
   "execution_count": null,
   "id": "76a26140",
   "metadata": {},
   "outputs": [],
   "source": [
    "p1 = sy.plot(f,show=False)\n",
    "p2 = sy.plot(x**2-2*x,show=False)\n",
    "p1.append(p2[0])\n",
    "p1"
   ]
  },
  {
   "cell_type": "markdown",
   "id": "4d60cd44",
   "metadata": {},
   "source": [
    "That likely didn't do anything, because we forgot that we want to \"show\" the plot. Instead, we do:"
   ]
  },
  {
   "cell_type": "code",
   "execution_count": null,
   "id": "b6fcb7fa",
   "metadata": {},
   "outputs": [],
   "source": [
    "p1.show()"
   ]
  },
  {
   "cell_type": "markdown",
   "id": "c1f311b9",
   "metadata": {},
   "source": [
    "Another option in the documentation is the `extend` command. I'm not sure what the difference is!"
   ]
  },
  {
   "cell_type": "code",
   "execution_count": null,
   "id": "f3cc8830",
   "metadata": {},
   "outputs": [],
   "source": [
    "p1 = sy.plot(f,show=False)\n",
    "p2 = sy.plot(x**2-2*x,show=False)\n",
    "p1.extend(p2)\n",
    "p1.show()"
   ]
  },
  {
   "cell_type": "markdown",
   "id": "33040cb4",
   "metadata": {},
   "source": [
    "**Exercise**: find the critical points of $f(x) = \\dfrac{x^2+3}{x-1}$. (You may find that Sympy's `factor` command is useful!)"
   ]
  },
  {
   "cell_type": "code",
   "execution_count": null,
   "id": "3bd7eb5d",
   "metadata": {},
   "outputs": [],
   "source": []
  },
  {
   "cell_type": "markdown",
   "id": "5fcfeef4",
   "metadata": {},
   "source": [
    "**Exercise**: plot the following on a single set of axes.\n",
    "\n",
    "1. The function $f(x) = x^2\\ln(x)$\n",
    "2. The derivative $f'(x)$\n",
    "3. The antiderivative $F(x) = \\int_1^x f(t)\\,dt$\n",
    "4. The tangent line to $f(x)$ when $x=1$"
   ]
  },
  {
   "cell_type": "code",
   "execution_count": null,
   "id": "99ba1bb2",
   "metadata": {},
   "outputs": [],
   "source": []
  }
 ],
 "metadata": {
  "kernelspec": {
   "display_name": "Python 3 (ipykernel)",
   "language": "python",
   "name": "python3"
  },
  "language_info": {
   "codemirror_mode": {
    "name": "ipython",
    "version": 3
   },
   "file_extension": ".py",
   "mimetype": "text/x-python",
   "name": "python",
   "nbconvert_exporter": "python",
   "pygments_lexer": "ipython3",
   "version": "3.11.2"
  }
 },
 "nbformat": 4,
 "nbformat_minor": 5
}
