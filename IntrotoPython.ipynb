{
 "cells": [
  {
   "cell_type": "markdown",
   "metadata": {},
   "source": [
    "# Intro to Python for Calculus (Jupyter)\n",
    "\n",
    "In this section, we'll review some of the elements of core Python that feature in our notebooks.\n",
    "If you're an experienced Python programmer, you'll no doubt find some omissions and shortcomings in our documentation.\n",
    "Suggestions are welcome! These labs have been written by mathematicians with no formal training in programming,\n",
    "and are rather utilitarian in nature.\n",
    "\n",
    "There's a good chance you're reading this page to remind yourself of some detail as you work through one of the lab notebooks.\n",
    "But if you're reading this to get accquainted with Python prior to getting started,\n",
    "you may want to try out some of the operations below.\n",
    "One of the easiest ways to do this is to have a *Jupyter notebook* open.\n",
    "If you're a student at the University of Lethbridge, you don't have to install anything!\n",
    "We have a cloud-based Jupyter *hub* located at [uleth.syzygy.ca](https://uleth.syzygy.ca).\n",
    "Log in with your University of Lethbridge credentials, and click on the button to open a new Python notebook:\n",
    "\n",
    "![screenshot of jupyter lab page showing python notebook button](imgs/jupyter.png)"
   ]
  },
  {
   "cell_type": "markdown",
   "metadata": {},
   "source": [
    "## Basic arithmetic operations\n",
    "\n",
    "One thing to keep in mind, if you're coming from a C++ background, is that most of the time in Python,\n",
    "we don't need to worry about specifying data types (until we do...)\n",
    "If you ask Python to perform the sum `4+3`, it will do so, and return 7.\n",
    "If you ask for `4/3`, you will get a floating point answer, rather than a fraction.\n",
    "(If you want to get a fraction, see the [SymPy documentation](./sympy.md).)\n",
    "\n",
    "Basic operations are:\n",
    "\n",
    "- Addition: `4+3`\n",
    "- Subtraction: `4-3`\n",
    "- Multiplication: `4*3`\n",
    "- Division: `4/3`\n",
    "- Exponentiation: `4**3` (Caution: Python will not understand `4^3`, even if that's what you're used to.)\n",
    "\n",
    "Try it out!"
   ]
  },
  {
   "cell_type": "markdown",
   "metadata": {},
   "source": [
    "Addition and Subtraction:"
   ]
  },
  {
   "cell_type": "code",
   "execution_count": null,
   "metadata": {},
   "outputs": [],
   "source": [
    "12 + 37 - 25"
   ]
  },
  {
   "cell_type": "markdown",
   "metadata": {},
   "source": [
    "Multiplication:"
   ]
  },
  {
   "cell_type": "code",
   "execution_count": null,
   "metadata": {},
   "outputs": [],
   "source": [
    "15 * 4"
   ]
  },
  {
   "cell_type": "markdown",
   "metadata": {},
   "source": [
    "Division:\n",
    "\n",
    "Note that the result of dividing any two numbers in Python, integers or otherwise, will always return a float, or floating point number, which is a real number in decimal form."
   ]
  },
  {
   "cell_type": "code",
   "execution_count": null,
   "metadata": {},
   "outputs": [],
   "source": [
    "72 / 9 "
   ]
  },
  {
   "cell_type": "markdown",
   "metadata": {},
   "source": [
    "Exponents:"
   ]
  },
  {
   "cell_type": "code",
   "execution_count": null,
   "metadata": {},
   "outputs": [],
   "source": [
    "5**3"
   ]
  },
  {
   "cell_type": "markdown",
   "metadata": {},
   "source": [
    "We can also use parentheses in our expressions:"
   ]
  },
  {
   "cell_type": "code",
   "execution_count": null,
   "metadata": {},
   "outputs": [],
   "source": [
    "3 * (12 - 8)**4"
   ]
  },
  {
   "cell_type": "markdown",
   "metadata": {},
   "source": [
    "It's a good idea to do some playing around; in particular, do some experiments with order of operation,\n",
    "and determine for yourself when parentheses are (and aren't) needed.\n",
    "(Of course, a few extra parentheses won't hurt.)\n",
    "\n",
    "**Note:** one of the most common errors that students run into in their calculus labs is forgetting the multiplication operator.\n",
    "We're used to writing expressions like `2x` that have an implied multiplication,\n",
    "but this will not be understood by Python. You must enter `2*x`.\n",
    "\n",
    "## Variables and print statements\n",
    "\n",
    "With multi-step calculations, it is often useful to assign variable names.\n",
    "This is also useful if we want to later change the numbers in our calculuations.\n",
    "\n",
    "For example, instead of computing the sum `4+3` directly, we could enter the information as follows:\n"
   ]
  },
  {
   "cell_type": "code",
   "execution_count": null,
   "metadata": {},
   "outputs": [],
   "source": [
    "a = 4\n",
    "b = 3\n",
    "c = a+b"
   ]
  },
  {
   "cell_type": "markdown",
   "metadata": {},
   "source": [
    "If you run this code in a Jupyter code cell, nothing will happen.\n",
    "Well, nothing that you can see. The computer has stored this information, but you haven't asked it to do anything with it.\n",
    "If you want to see the result of the addition, you need to use the `print` command:"
   ]
  },
  {
   "cell_type": "code",
   "execution_count": null,
   "metadata": {},
   "outputs": [],
   "source": [
    "print(c)"
   ]
  },
  {
   "cell_type": "markdown",
   "metadata": {},
   "source": [
    "In a Jupyter notebook, you can also just put `c` as your last line of code, and it will print."
   ]
  },
  {
   "cell_type": "code",
   "execution_count": null,
   "metadata": {},
   "outputs": [],
   "source": [
    "c"
   ]
  },
  {
   "cell_type": "markdown",
   "metadata": {},
   "source": [
    "Note that if we put `4+3` in a code cell and run it, we get the output immediately.\n",
    "\n",
    "You can also declare multiple variables together on the same line:"
   ]
  },
  {
   "cell_type": "code",
   "execution_count": null,
   "metadata": {},
   "outputs": [],
   "source": [
    "a, b = 3, 4    "
   ]
  },
  {
   "cell_type": "markdown",
   "metadata": {},
   "source": [
    "We can store and print string variables in a similar fashion:"
   ]
  },
  {
   "cell_type": "code",
   "execution_count": null,
   "metadata": {},
   "outputs": [],
   "source": [
    "string_var = \"Hey, I'm a string!\"\n",
    "print(string_var)"
   ]
  },
  {
   "cell_type": "markdown",
   "metadata": {},
   "source": [
    "**Caution**: running an operation like `4+3` will automatically produce output.\n",
    "But in a Jupyter notebook, this is only true if it's the last (or only) line in your cell.\n",
    "If you enter\n",
    "```\n",
    "4+3\n",
    "4*3\n",
    "4-3\n",
    "```\n",
    "and run it, the only output you'll get is `1` (the result of doing `4-3`)."
   ]
  },
  {
   "cell_type": "code",
   "execution_count": null,
   "metadata": {},
   "outputs": [],
   "source": [
    "4+3\n",
    "4*3\n",
    "4-3"
   ]
  },
  {
   "cell_type": "markdown",
   "metadata": {},
   "source": [
    "If you want to get all three outputs from a single cell, you can use the `print` command.\n",
    "See what happens if you do:"
   ]
  },
  {
   "cell_type": "code",
   "execution_count": null,
   "metadata": {},
   "outputs": [],
   "source": [
    "print(4+3)\n",
    "print(4*3)\n",
    "print(4-3)"
   ]
  },
  {
   "cell_type": "markdown",
   "metadata": {},
   "source": [
    "You can also enter a list of operations, and the output will be an ordered list:"
   ]
  },
  {
   "cell_type": "code",
   "execution_count": null,
   "metadata": {},
   "outputs": [],
   "source": [
    "4+3,4*3,4-3"
   ]
  },
  {
   "cell_type": "markdown",
   "metadata": {},
   "source": [
    "### **Lists**"
   ]
  },
  {
   "cell_type": "markdown",
   "metadata": {},
   "source": [
    "Most of the time, we won't be interested in evaluating a function at a single point.\n",
    "Instead, we'll want to evaluate a function on a whole list of points,\n",
    "and produce a list of output values as a result.\n",
    "(These might then be used for something like plotting a graph of the function.)\n",
    "\n",
    "Most often, we will be working with lists when using the [NumPy library](./numpy.md) for numerical computations.\n",
    "In that context, the content of our list will be floating point numbers, and the list is called an **array**.\n",
    "(An array is really just a special type of list, where all the entries have the same data type, which is usually `int` or `float`.\n",
    "Arrays come from libraries like NumPy and aren't built into Python.)\n",
    "\n",
    "Lists entries don't have to be of the same type. It's also important to note that a list:\n",
    "- is *ordered*\n",
    "- can contain *duplicates*\n",
    "- can be changed (the Python word for this is *mutable*)\n",
    "\n",
    "In particular, we can start with an empty list and then populate it.\n",
    "Some examples:"
   ]
  },
  {
   "cell_type": "code",
   "execution_count": null,
   "metadata": {},
   "outputs": [],
   "source": [
    "empty_list = []\n",
    "mixed_list = [1, 3.4, \"Hello world\", True]\n",
    "integer_list = [0,1,2,3,4,5,6,7,8,9]"
   ]
  },
  {
   "cell_type": "markdown",
   "metadata": {},
   "source": [
    "Note that lists are always denoted by square brackets.\n",
    "\n",
    "### Operations with lists\n",
    "\n",
    "One of the simplest things we can do with a list is get its length.\n",
    "Try running:"
   ]
  },
  {
   "cell_type": "code",
   "execution_count": null,
   "metadata": {},
   "outputs": [],
   "source": [
    "print(len(empty_list))\n",
    "print(len(mixed_list))"
   ]
  },
  {
   "cell_type": "markdown",
   "metadata": {},
   "source": [
    "The `type` command will give the data type of a list, but this is unlikely to be needed in a calculus lab.\n",
    "\n",
    "The `append` command is quite useful, as this lets us add items to a list.\n",
    "For example, if we run"
   ]
  },
  {
   "cell_type": "code",
   "execution_count": null,
   "metadata": {},
   "outputs": [],
   "source": [
    "empty_list = []\n",
    "empty_list.append(3)\n",
    "print(empty_list)"
   ]
  },
  {
   "cell_type": "markdown",
   "metadata": {},
   "source": [
    "the output will be `[3]`. \n",
    "\n",
    "Often this is done as part of a `for` loop. If we want to append our list 10 times, we can do the following:"
   ]
  },
  {
   "cell_type": "code",
   "execution_count": null,
   "metadata": {},
   "outputs": [],
   "source": [
    "empty_list = []\n",
    "for i in range(10):\n",
    "    empty_list.append(i)\n",
    "print(empty_list)"
   ]
  },
  {
   "cell_type": "markdown",
   "metadata": {},
   "source": [
    "Again note the importance of the indentation for the `for` loop.\n",
    "The output of the above will be `[0,1,2,3,4,5,6,7,8,9]`. We asked for 10 steps,\n",
    "and the computer obliged. But the computer always starts counting at zero!\n",
    "\n",
    "One of the things we'll need to be able to do is access list items.\n",
    "Here is some of the syntax for doing so, for a list named `L`:\n",
    "\n",
    "- the whole list: `L[:]`\n",
    "- everything after (and including) index position `i`: `L[i:]`\n",
    "- everything before index position `i`: `L[:i]`\n",
    "- everything before the position `j` steps from the end: `L[:-j]`\n",
    "- everything after (and including) the position `j` steps from the end: `L[-j:]`\n",
    "\n",
    "(For the last two, \"from the end\" is meant in the sense that one step from the end is the last entry.)\n",
    "\n",
    "For example, if `L` is a partition of an interval, and we want to do a Riemann sum,\n",
    "the list `L[1:]` consists of all points in the partition except the first one, which is what you want for right endpoints.\n",
    "If you want left endpoints, you would use the list `L[:-1]`, which consists of everything except the last point."
   ]
  },
  {
   "cell_type": "markdown",
   "metadata": {},
   "source": [
    "We can access individual elements of a list by specifying their index in the list, which **starts at 0** (i.e. the first element is at index 0). \n",
    "\n",
    "Here's how we would access (and output) the first three elements of a list `primes`:"
   ]
  },
  {
   "cell_type": "code",
   "execution_count": null,
   "metadata": {},
   "outputs": [],
   "source": [
    "primes = [2,3,5,7,11,13,17,19]\n",
    "print(primes[0], primes[1], primes[2])"
   ]
  },
  {
   "cell_type": "markdown",
   "metadata": {},
   "source": [
    "To access elements from the end of a list, we can use negative indices. For instance, `[-1]` would specify the last index of a list.  \n",
    "\n",
    "Below is how we would access the last two elements of `primes`:"
   ]
  },
  {
   "cell_type": "code",
   "execution_count": null,
   "metadata": {},
   "outputs": [],
   "source": [
    "print(primes[-2], primes[-1])"
   ]
  },
  {
   "cell_type": "markdown",
   "metadata": {},
   "source": [
    "For more documentation on operations with lists and other sequences in Python (i.e. arrays), see the [Intro to NumPy for Calculus](./numpy.md) page!\n",
    "And of course, you can find plenty of [help online](https://www.w3schools.com/python/python_lists.asp).\n"
   ]
  },
  {
   "cell_type": "markdown",
   "metadata": {},
   "source": [
    "## **Functions**"
   ]
  },
  {
   "cell_type": "markdown",
   "metadata": {},
   "source": [
    "A *function* in Python is just like a function in mathematics: you define it by saying what it should do to a given input.\n",
    "Then, if you give your function an input, it will provide you with the corresponding output. \n",
    "\n",
    "Functions can be thought of as reusable blocks of code that can be called over and over again with varied inputs.   \n",
    "\n",
    "Here is the general syntax:\n",
    "\n",
    "```python\n",
    "def function_name(parameters):\n",
    "    # code to be executed\n",
    "```\n",
    "Note that the `#` symbol denotes the beginning of a comment.\n",
    "In a Jupyter notebook you can explain your code in a markdown cell,\n",
    "but it is still good practice to include comments in your code to explain what various lines are for.\n",
    "\n",
    "Some important points:\n",
    "- Functions in Python are defined using the `def` keyword.  \n",
    "- After the `def` keyword, comes the function's name and then a list of parameters, or inputs, enclosed in `()` and followed by a `:`.  \n",
    "- Indented below is the function's body, the block of code that executes when you call the function.  \n",
    "- In the function's body, you could find a `return` statement, this outputs or \"returns\" a particular value when the function is executed.    \n",
    "\n",
    "For an example of a function, we can define a function of a parameter `x` as follows:"
   ]
  },
  {
   "cell_type": "code",
   "execution_count": null,
   "metadata": {},
   "outputs": [],
   "source": [
    "# Function that returns the square of a given number, plus 4\n",
    "def f(x):\n",
    "    return x**2+4"
   ]
  },
  {
   "cell_type": "markdown",
   "metadata": {},
   "source": [
    "This defines the function $f(x)=x^2+4$. But note that Python will not communicate your function to you in this way.\n",
    "Indeed, if you try running the command `print(f(x))`, you will get an error, \n",
    "since we haven't told the computer what `x` is!\n",
    "The command `print(f)` is no better: you'll get an output like `<function f at 0x7f27cd037880>` that is probably not very illuminating.\n",
    "\n",
    "However, your function *has* been defined, and it *will* give you output, as long as you first give it input.\n",
    "Enter `f(2)` and you'll get the output `8`, which is indeed the value of $2^2+4$."
   ]
  },
  {
   "cell_type": "code",
   "execution_count": null,
   "metadata": {},
   "outputs": [],
   "source": [
    "f(2) # calling the function "
   ]
  },
  {
   "cell_type": "markdown",
   "metadata": {},
   "source": [
    "Below is a function that operates on a list, finding the mean (average) of a list of numbers. It utilizes two built-in functions, `sum()` which returns the sum of a sequence of numbers, and `len()` which returns the length of a sequence of numbers."
   ]
  },
  {
   "cell_type": "code",
   "execution_count": null,
   "metadata": {},
   "outputs": [],
   "source": [
    "numbers = [0, 1, 2, 3, 4, 5, 6, 7, 8]\n",
    "\n",
    "def calculate_mean(list):\n",
    "    return sum(list) / len(list)    # sum adds the entries in the list, and len gives the number of entries\n",
    "\n",
    "calculate_mean(numbers)"
   ]
  },
  {
   "cell_type": "markdown",
   "metadata": {},
   "source": [
    "Lines that start with a `#` symbol are known as comments, and are ignored when the code is run. Comments explain what your code is doing, making it easier for others to understand what is going on, and for yourself when revisiting it."
   ]
  },
  {
   "cell_type": "code",
   "execution_count": null,
   "metadata": {},
   "outputs": [],
   "source": [
    "# Function that finds the slope from two points\n",
    "def slope(x1, y1, x2, y2):\n",
    "    return (y2-y1) / (x2 - x1)"
   ]
  },
  {
   "cell_type": "code",
   "execution_count": null,
   "metadata": {},
   "outputs": [],
   "source": [
    "slope(2, 2, 6, 3)  # calling the function"
   ]
  },
  {
   "cell_type": "markdown",
   "metadata": {},
   "source": [
    "Python has many other built-in functions, such as the `print()` function seen before, and quite a few more from different packages / libraries, such as NumPy or SymPy."
   ]
  },
  {
   "cell_type": "markdown",
   "metadata": {},
   "source": [
    "**Note:** the indentation in the definition of a function is an essential part of Python syntax!\n",
    "Your function definition won't work without it.\n",
    "Fortunately, when you're working in a Jupyter notebook,\n",
    "as long as you remember the colon at the end of the first line,\n",
    "the computer will add the indentation for you as soon as you hit enter.\n",
    "\n",
    "A quicker way to define a function is to use Python's `lambda` syntax.\n",
    "This is especially useful if you need to define a function inline as part of a larger program.\n",
    "Instead of the function definition we did above, an equivalent syntax is:"
   ]
  },
  {
   "cell_type": "code",
   "execution_count": null,
   "metadata": {},
   "outputs": [],
   "source": [
    "f = lambda x : x**2+4"
   ]
  },
  {
   "cell_type": "markdown",
   "metadata": {},
   "source": [
    "The `lambda` syntax is faster, but until you get used to it, I'm not sure it is any easier to remember!\n",
    "\n",
    "In general, the syntax is as follows:\n",
    "\n",
    "```python\n",
    "function_name = lambda parameters: return values\n",
    "```"
   ]
  },
  {
   "cell_type": "markdown",
   "metadata": {},
   "source": [
    "## Conditional Statements"
   ]
  },
  {
   "cell_type": "markdown",
   "metadata": {},
   "source": [
    "There are instances that arise in programming when we only want to execute a particular block of code if a certain condition is true. For this scenario, Python has `if` statements, which have the following syntax:  \n",
    "\n",
    "```python\n",
    "if condition:\n",
    "    # code to execute if condition is true\n",
    "```\n",
    "Some key points:  \n",
    "- If statements in Python begin with the `if` keyword and are followed by a conditional statement.\n",
    "- The conditional statement evaluates to either `True` or `False` and is succeeded by a colon `:`.\n",
    "- Indented below, is the code that executes if the condition returns `True`.\n",
    "- To handle multiple conditions, we can use `elif` (short for \"else if\") and `else`statements.\n",
    "- An `elif` statement is another conditional statement that is only checked and potentially executed when the prior `if` statement is false.\n",
    "- An `else` condition is only executed when all previous conditional statements are `False`.\n",
    "\n",
    "Below is the syntax for when we have multiple conditions:\n",
    "\n",
    "```python\n",
    "if condition:\n",
    "    # code to execute if condition is true\n",
    "elif condition:\n",
    "    # code to execute if above condition is false and this condition is true\n",
    "else:\n",
    "    # code to execute if all previous conditions are false\n",
    "```\n",
    "\n",
    "As far as the conditions themselves, which can either be `True` or `False`, they typically involve comparison or logical operations: \n",
    "\n",
    "Comparison operations:\n",
    "- Equals: `x == y`\n",
    "- Not Equal: `x != y`\n",
    "- Less Than (strictly): `x < y`\n",
    "- Greater Than (strictly): `x > y`\n",
    "- Less Than or Equal to: `x <= y`\n",
    "- Greater Than or Equal to: `x >= b`\n",
    "\n",
    "Logical operations:\n",
    "- `x and y`: Returns `True` if both `x` and `y` are `True`.\n",
    "- `x or y`: Returns `True` if `x` or `y` are `True`.\n",
    "- `not x`: Returns `True` if `x` is `False`."
   ]
  },
  {
   "cell_type": "markdown",
   "metadata": {},
   "source": [
    "Let's start with a simple example:"
   ]
  },
  {
   "cell_type": "code",
   "execution_count": null,
   "metadata": {},
   "outputs": [],
   "source": [
    "c = 10\n",
    "\n",
    "if c < 0:\n",
    "    print('c is negative')\n",
    "elif c == 0:\n",
    "    print('c is 0')\n",
    "else:\n",
    "    print('c is positive')"
   ]
  },
  {
   "cell_type": "markdown",
   "metadata": {},
   "source": [
    "Here we define a function that only computes the square root if the input is non-negative:"
   ]
  },
  {
   "cell_type": "code",
   "execution_count": null,
   "metadata": {},
   "outputs": [],
   "source": [
    "def square_root(x):\n",
    "    if x >= 0:\n",
    "        return x**0.5\n",
    "    else:\n",
    "        return 'Cannot take the square root of a negative number'"
   ]
  },
  {
   "cell_type": "markdown",
   "metadata": {},
   "source": [
    "We can call it as follows:"
   ]
  },
  {
   "cell_type": "code",
   "execution_count": null,
   "metadata": {},
   "outputs": [],
   "source": [
    "square_root(400)"
   ]
  },
  {
   "cell_type": "markdown",
   "metadata": {},
   "source": [
    "If and else statements can also help us to easily implement piece-wise functions:"
   ]
  },
  {
   "cell_type": "code",
   "execution_count": null,
   "metadata": {},
   "outputs": [],
   "source": [
    "def f(x):\n",
    "    if x < 0:\n",
    "        return -x\n",
    "    else:\n",
    "        return x**2 + 1"
   ]
  },
  {
   "cell_type": "code",
   "execution_count": null,
   "metadata": {},
   "outputs": [],
   "source": [
    "print(f(-1), f(1))"
   ]
  },
  {
   "cell_type": "markdown",
   "metadata": {},
   "source": [
    "Another common operator we see in Python, is the modulo operator `%`, which returns the remainder from the division of two numbers:\n",
    "\n",
    "`x % y` returns the remainder when `x` is divided by `y`.  \n",
    "\n",
    "The modulo operator can be quite useful in different situations, like determining if a number is even or odd:"
   ]
  },
  {
   "cell_type": "code",
   "execution_count": null,
   "metadata": {},
   "outputs": [],
   "source": [
    "x = 8\n",
    "\n",
    "if x % 2 == 0:\n",
    "    print('x is even!')\n",
    "else:\n",
    "    print('x is odd!')"
   ]
  },
  {
   "cell_type": "markdown",
   "metadata": {},
   "source": [
    "## **Loops**"
   ]
  },
  {
   "cell_type": "markdown",
   "metadata": {},
   "source": [
    "When programming, there are often times where we want to repeatedly perform a specfic action while updating certain parameters, like counting, or performing operations on elements of a list. In these situations, we use loops.  \n",
    " \n",
    "In particular, `for` loops. They have the following structure:\n",
    "\n",
    "```python\n",
    "for item in sequence:\n",
    "    # code to be executed\n",
    "```\n",
    "`item` represents the current iteration of a loop.  \n",
    "`sequence` represents what is being iterated over (list, range, etc.), and indicates how many iterations the loop will have.  This is followed by a `:`.  \n",
    "Indented below is the body of the loop, containing the code that is executed each time.  "
   ]
  },
  {
   "cell_type": "markdown",
   "metadata": {},
   "source": [
    "Here is an example that computes the square root of each number in a list:"
   ]
  },
  {
   "cell_type": "code",
   "execution_count": null,
   "metadata": {},
   "outputs": [],
   "source": [
    "squares = [1, 4, 9, 16, 25]\n",
    "\n",
    "for number in squares:\n",
    "    print(number**0.5)"
   ]
  },
  {
   "cell_type": "markdown",
   "metadata": {},
   "source": [
    "Now let's print out every number in a range that is divisible by 3:"
   ]
  },
  {
   "cell_type": "code",
   "execution_count": null,
   "metadata": {},
   "outputs": [],
   "source": [
    "for n in range(1, 30):\n",
    "    if n % 3 == 0:\n",
    "        print(n, end=\" \") # the \"end=...\" prints everything on a single line"
   ]
  },
  {
   "cell_type": "markdown",
   "metadata": {},
   "source": [
    "Using a `for` loop, we can implement a function that computes factorials:"
   ]
  },
  {
   "cell_type": "code",
   "execution_count": null,
   "metadata": {},
   "outputs": [],
   "source": [
    "def factorial(N):\n",
    "    result = 1\n",
    "    for n in range(2, N+1):\n",
    "    # using *= is the same as `result = result * n`\n",
    "        result *= n \n",
    "    return result"
   ]
  },
  {
   "cell_type": "code",
   "execution_count": null,
   "metadata": {},
   "outputs": [],
   "source": [
    "factorial(6)"
   ]
  },
  {
   "cell_type": "markdown",
   "metadata": {},
   "source": [
    "Many of the tools we will need for Calculus come from Python libraries such as NumPy and SymPy.\n",
    "Continue reading for details on how to use these!"
   ]
  }
 ],
 "metadata": {
  "kernelspec": {
   "display_name": "Python 3 (ipykernel)",
   "language": "python",
   "name": "python3"
  },
  "language_info": {
   "codemirror_mode": {
    "name": "ipython",
    "version": 3
   },
   "file_extension": ".py",
   "mimetype": "text/x-python",
   "name": "python",
   "nbconvert_exporter": "python",
   "pygments_lexer": "ipython3",
   "version": "3.9.6"
  }
 },
 "nbformat": 4,
 "nbformat_minor": 4
}
