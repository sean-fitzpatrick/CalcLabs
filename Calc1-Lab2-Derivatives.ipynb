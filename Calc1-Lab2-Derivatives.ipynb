{
 "cells": [
  {
   "cell_type": "markdown",
   "metadata": {},
   "source": [
    "# **Derivatives, Derivatives, and Derivatives!**"
   ]
  },
  {
   "cell_type": "markdown",
   "metadata": {},
   "source": [
    "## **Welcome MATH 1560 Students!**"
   ]
  },
  {
   "cell_type": "markdown",
   "metadata": {},
   "source": [
    "As the title suggests, in this notebook we are going to be working with Derivatives... **Let's Begin!**\n",
    "\n",
    "**First, what's been covered so far?**\n",
    "- Rates of Change\n",
    "- Finding the Derivative at a Point\n",
    "- Tangent Lines \n",
    "\n",
    "And of course, the **limit definition of the Derivative**:\n",
    "\n",
    "Let $f(x)$ be a function that is defined on an open interval (a,b). The derivative of $f(x)$, written as $f'(x)$, is defined by the limit\n",
    "\n",
    "$$\n",
    "f'(x) = \\lim_{h \\to 0} \\frac{f(x+h) - f(x)}{h},\n",
    "$$\n",
    "as long as the limit exists. If the limit exists for a certain value $x=c$, we say that $f$ is **differentiable** at $c$.\n",
    "\n",
    "**Now for a quick example! (found in your textbook)**  \n",
    "\n",
    "Let $f(x) = 3x^2 + 5x - 7$. To find $f'(x)$:\n",
    "\n",
    "$$\n",
    "\\begin{aligned}\n",
    "f'(x) &= \\lim_{h \\to 0} \\frac{f(x+h) - f(x)}{h} \\\\\n",
    "&= \\lim_{h \\to 0} \\frac{3(x+h)^2 + 5(x+h) - 7 - (3x^2 +5x -7)}{h} \\\\\n",
    "&= \\lim_{h \\to 0} \\frac{3h^2 + 6xh + 5h}{h} \\\\\n",
    "&= \\lim_{h \\to 0} 3h + 6x + 5 \\\\\n",
    "&= 6x + 5\n",
    "\\end{aligned}\n",
    "$$\n",
    "\n",
    "With an example like this, using the limit definition to compute the derivative is all well and good. However, when we start working with more complex and intricate functions, computing derivatives this way becomes increasingly more inefficient and awkward (not to mention ugly!).\n",
    "\n",
    "In your next class, you'll learn some much easier and more efficient ways of taking derivatives by hand.\n",
    "\n",
    "**But for now, let's compute our derivatives using Python, more specifically, SymPy!**"
   ]
  },
  {
   "cell_type": "markdown",
   "metadata": {},
   "source": [
    "### **Getting Started with Python and SymPy**"
   ]
  },
  {
   "cell_type": "markdown",
   "metadata": {},
   "source": [
    "As you may recall from our last Python notebook a couple weeks ago, to access the functionality from the SymPy library, we need to import it:  \n",
    "&rarr; Run the code cell(s) by hitting `shift + enter` or by using the play button at the top."
   ]
  },
  {
   "cell_type": "code",
   "execution_count": null,
   "metadata": {},
   "outputs": [],
   "source": [
    "# Make sure to run this cell!\n",
    "import sympy as sy\n",
    "sy.init_printing()       "
   ]
  },
  {
   "cell_type": "markdown",
   "metadata": {},
   "source": [
    "**A Quick Refresher:**\n",
    "\n",
    "The line: `import sympy as sy` loads in the SymPy library for us to use. We give it the shorthand name `sy`, so every time we call something from SymPy, we prefix it with `sy.`. This is a good way to keep things organized, especially when we are working with multiple libraries.  \n",
    "\n",
    "The next line: `sy.init_printing()` calls SymPy's `init_printing()` function, which gets the output to be displayed as nicely formatted mathematics.\n",
    "\n",
    "Now is a good time to tell Sympy that we want to use $x$ as variable. This is done by using the `symbols()` function."
   ]
  },
  {
   "cell_type": "code",
   "execution_count": null,
   "metadata": {},
   "outputs": [],
   "source": [
    "x = sy.symbols('x')    # this makes x a symbol"
   ]
  },
  {
   "cell_type": "markdown",
   "metadata": {},
   "source": [
    "**Next, let's represent a function in SymPy:**  \n",
    "\n",
    "We can use the example seen at the begining, $f(x) = 3x^2 + 5x - 7$"
   ]
  },
  {
   "cell_type": "code",
   "execution_count": null,
   "metadata": {},
   "outputs": [],
   "source": [
    "f = 3*x**2 + 5*x -7     # Notice how multiplication is represented by a single '*', and exponents with two '**'\n",
    "f  "
   ]
  },
  {
   "cell_type": "markdown",
   "metadata": {},
   "source": [
    "Remember with SymPy we are not creating \"functions\" per se, that are defined on an input/output basis, rather we are defining symbolic expressions, intended to be easily manipulated with algebra and/or calculus. If you were to do something like calling `f(3)`, instead of getting an output of $35$, an error would be returned instead.\n",
    "\n",
    "To input a value into your SymPy expression, you can use the `subs()` function, where you substitute a value in for $x$ or whichever variable the function is using.  \n",
    "Let's see this in action by evaluating the function when $x = 5$, also written as $f(5)$:"
   ]
  },
  {
   "cell_type": "code",
   "execution_count": null,
   "metadata": {},
   "outputs": [],
   "source": [
    "f.subs(x, 5) "
   ]
  },
  {
   "cell_type": "markdown",
   "metadata": {},
   "source": [
    "It's also important to note that when we create our SymPy expressions, like `f = ...`, we don't have to use the names `f` or `g`. Since we are just storing the expressions to a variable, the name can be anything of our choosing. The naming convention of this notebook, uses the names `f` or `g`, except we add a 2 or 3 etc. to ensure clarity and that the code runs smoothly."
   ]
  },
  {
   "cell_type": "markdown",
   "metadata": {},
   "source": [
    "### **Computing Derivatives with SymPy**"
   ]
  },
  {
   "cell_type": "markdown",
   "metadata": {},
   "source": [
    "**Alright, now that we've reviewed some SymPy basics, and run a couple of cells, its time to compute derivatives!**\n",
    "\n",
    "Taking derivatives with SympPy is very convenient and time efficient. We simply use the `diff()` function!\n",
    "\n",
    "Let's continue with our existing example, `f`, which represents the function $f(x) = 3x^2 + 5x - 7$.  \n",
    "We can find $f'(x)$ as follows:"
   ]
  },
  {
   "cell_type": "code",
   "execution_count": null,
   "metadata": {},
   "outputs": [],
   "source": [
    "f_prime = f.diff(x)       # The 'x' inbetween the '()' means we are differentiating with respect to x\n",
    "f_prime                   # Also notice that we are using a variable to store the result of using the diff() function"
   ]
  },
  {
   "cell_type": "markdown",
   "metadata": {},
   "source": [
    "Take a look at the output... is it what you were expecting? Does it match the $f'(x)$ calculated at the top?   \n",
    "**Double-click** on the empty markdown cell below to type your answer! Hit `shift + enter` once you're done."
   ]
  },
  {
   "cell_type": "markdown",
   "metadata": {},
   "source": []
  },
  {
   "cell_type": "markdown",
   "metadata": {},
   "source": [
    "Now let's try to evaluate $f'(x)$ when $x = 3$. This can simply be done by tagging on a call to the `subs()` function to our existing code:"
   ]
  },
  {
   "cell_type": "code",
   "execution_count": null,
   "metadata": {},
   "outputs": [],
   "source": [
    "f_prime.subs(x, 3)"
   ]
  },
  {
   "cell_type": "markdown",
   "metadata": {},
   "source": [
    "### Exercise\n",
    "\n",
    "For the function $f$ above, use the `diff` and `subs` commands to write the equation of the tangent line to $y=f(x)$ at $x=2$. You will need to edit the cell below. We've added one line to start you off: you need to declare $y$ as a symbol before you can use it in an equation."
   ]
  },
  {
   "cell_type": "code",
   "execution_count": null,
   "metadata": {},
   "outputs": [],
   "source": [
    "y = sy.symbols('y')"
   ]
  },
  {
   "cell_type": "markdown",
   "metadata": {},
   "source": [
    "**Let's look at some more examples!**  \n",
    "\n",
    "Consider the function, $f(x) = \\displaystyle\\frac{1}{x+1}$ (Example 2.1.23. in your [textbook](https://opentext.uleth.ca/apex-standard/sec_derivative.html#ex_deriv2)), what does it's derivative look like?"
   ]
  },
  {
   "cell_type": "code",
   "execution_count": null,
   "metadata": {},
   "outputs": [],
   "source": [
    "# First, we represent g(x) in SymPy\n",
    "f2 = 1 / (x + 1)     # using brackets is a good idea with fractions\n",
    "f2"
   ]
  },
  {
   "cell_type": "code",
   "execution_count": null,
   "metadata": {},
   "outputs": [],
   "source": [
    "# Taking the derivative with respect to x\n",
    "f_prime2 = f2.diff(x)\n",
    "f_prime2 "
   ]
  },
  {
   "cell_type": "markdown",
   "metadata": {},
   "source": [
    "Now lets's try differentiating $g(x) = \\displaystyle \\sqrt{x}$. To do this we can use the built in `sqrt()` function from SymPy!   \n",
    "Trigonometric functions are also implemented by SymPy which you'll see in following examples."
   ]
  },
  {
   "cell_type": "code",
   "execution_count": null,
   "metadata": {},
   "outputs": [],
   "source": [
    "g = sy.sqrt(x)\n",
    "g"
   ]
  },
  {
   "cell_type": "code",
   "execution_count": null,
   "metadata": {},
   "outputs": [],
   "source": [
    "g_prime = g.diff(x)\n",
    "g_prime"
   ]
  },
  {
   "cell_type": "markdown",
   "metadata": {},
   "source": [
    "**Now for some trigonometric examples...**\n",
    "\n",
    "Let's find the derivative of the function $f(x) = \\sin(x)$.\n",
    "\n",
    "Before we use SymPy, what do you think the derivative will be? And how do you know?  \n",
    "**Double-click** on the empty markdown cell below to type your answer! Hit `shift + enter` once you're done.\n"
   ]
  },
  {
   "cell_type": "markdown",
   "metadata": {},
   "source": []
  },
  {
   "cell_type": "code",
   "execution_count": null,
   "metadata": {},
   "outputs": [],
   "source": [
    "f3 = sy.sin(x)\n",
    "f3"
   ]
  },
  {
   "cell_type": "code",
   "execution_count": null,
   "metadata": {},
   "outputs": [],
   "source": [
    "f_prime3 = f3.diff(x)\n",
    "f_prime3"
   ]
  },
  {
   "cell_type": "markdown",
   "metadata": {},
   "source": [
    "Interesting! The derivative of the sine function, is the cosine function, or when $f(x) = \\sin(x)$, $f'(x) = \\cos(x)$.   \n",
    "Why might this be the case? Provide an explanation in the empty cell below.  \n",
    "When crafting your answer, think of the behaviour of $\\sin(x)$ and $\\cos(x)$, and even have a look at Example 2.1.24. from your [textbook](https://opentext.uleth.ca/apex-standard/sec_derivative.html).  "
   ]
  },
  {
   "cell_type": "markdown",
   "metadata": {},
   "source": []
  },
  {
   "cell_type": "markdown",
   "metadata": {},
   "source": [
    "Now let's consider the function $g(x) = \\cos(x)$ and find it's derivative!"
   ]
  },
  {
   "cell_type": "code",
   "execution_count": null,
   "metadata": {},
   "outputs": [],
   "source": [
    "g2 = sy.cos(x)\n",
    "g_prime2 = g2.diff(x)  \n",
    "g_prime2"
   ]
  },
  {
   "cell_type": "markdown",
   "metadata": {},
   "source": [
    "Were you expecting the derivative to be equal to $\\sin(x)$ as opposed to $-\\sin(x)$?  Regardless, it's clear that a relationship exists here.\n",
    "\n",
    "Let's keep exploring, but this time you get to write the code!\n",
    "\n",
    "Find the derivative of the function $f(x) = -\\sin(x)$ using the code cell below!"
   ]
  },
  {
   "cell_type": "code",
   "execution_count": null,
   "metadata": {},
   "outputs": [],
   "source": [
    "# Write your code here! Look at previous examples if you get stuck"
   ]
  },
  {
   "cell_type": "markdown",
   "metadata": {},
   "source": [
    "Give another one a try! Find the derivative of the function $g(x) = -\\cos(x)$ using the code cell below!"
   ]
  },
  {
   "cell_type": "code",
   "execution_count": null,
   "metadata": {},
   "outputs": [],
   "source": [
    "# Write your code here! Look at previous examples if you get stuck"
   ]
  },
  {
   "cell_type": "markdown",
   "metadata": {},
   "source": [
    "**Let's work on some more exercises!**  \n",
    "\n",
    "**For each given function $f(x)$, find $f'(x)$ using SymPy, good luck!**"
   ]
  },
  {
   "cell_type": "markdown",
   "metadata": {},
   "source": [
    "**Exercise #1: \n",
    "$f(x) = x^7$**"
   ]
  },
  {
   "cell_type": "code",
   "execution_count": null,
   "metadata": {},
   "outputs": [],
   "source": [
    "# Write your code here! Look at previous examples if you get stuck"
   ]
  },
  {
   "cell_type": "markdown",
   "metadata": {},
   "source": [
    "**Exercise #2: \n",
    "$f(x) = 4x^3 - 2x^2 + 6$**"
   ]
  },
  {
   "cell_type": "code",
   "execution_count": null,
   "metadata": {},
   "outputs": [],
   "source": [
    "# Write your code here!"
   ]
  },
  {
   "cell_type": "markdown",
   "metadata": {},
   "source": [
    "**Exercise #3: \n",
    "$f(x) = 5e^x$**    \n",
    "Tip: To represent the $e^x$ in SymPy we simply use the `exp()` function. For example, to represent $y = e^x$, we'd type `y = sy.exp(x)`"
   ]
  },
  {
   "cell_type": "code",
   "execution_count": null,
   "metadata": {},
   "outputs": [],
   "source": [
    "# Write your code here!"
   ]
  },
  {
   "cell_type": "markdown",
   "metadata": {},
   "source": [
    "**Exercise #4: \n",
    "$f(x) = x^2\\sin(x)$**"
   ]
  },
  {
   "cell_type": "code",
   "execution_count": null,
   "metadata": {},
   "outputs": [],
   "source": [
    "# Write your code here!\n"
   ]
  },
  {
   "cell_type": "markdown",
   "metadata": {},
   "source": [
    "**Exercise #5: \n",
    "$f(x) = (2x^2 + 1)(3x^2 - 1)$**"
   ]
  },
  {
   "cell_type": "code",
   "execution_count": null,
   "metadata": {},
   "outputs": [],
   "source": [
    "# Write your code here!"
   ]
  },
  {
   "cell_type": "markdown",
   "metadata": {},
   "source": [
    "**Exercise #6: \n",
    "$f(x) =\\displaystyle\\frac{x^2 - 4}{x + 2}$**"
   ]
  },
  {
   "cell_type": "code",
   "execution_count": null,
   "metadata": {},
   "outputs": [],
   "source": [
    "# Write your code here!"
   ]
  },
  {
   "cell_type": "markdown",
   "metadata": {},
   "source": [
    "### **Exploring Higher Order Derivatives**"
   ]
  },
  {
   "cell_type": "markdown",
   "metadata": {},
   "source": [
    "When we take the derivative of a given function, we get its instantaneous rate of change, but what if we wanted to know the rate of change of that rate of change? This is where higher order derivatives come in. Remember that the derivative of a function is also a function itself, so it's derivative can be found as well!    \n",
    "\n",
    "Given a function $f(x)$, we know that it's derivative, $f'(x)$ is also a function, meaning we can take it's derivative, which is known as the second derivative of $f$ and denoted as $f''(x)$. If we were to take another successive derivative, it would be known as the third derivative, written as $f'''(x)$."
   ]
  },
  {
   "cell_type": "markdown",
   "metadata": {},
   "source": [
    "**Now let's compute higher order derivatives using SymPy, first illustrating with an example!**  \n",
    "\n",
    "**Find the first three derivatives of the function, $f(x) = 9x^2$**"
   ]
  },
  {
   "cell_type": "markdown",
   "metadata": {},
   "source": [
    "**Method 1:**"
   ]
  },
  {
   "cell_type": "code",
   "execution_count": null,
   "metadata": {},
   "outputs": [],
   "source": [
    "f = 9*x**2\n",
    "fp = f.diff(x) # 'fp' refers to \"f prime\"\n",
    "fpp = fp.diff(x)\n",
    "fppp = fpp.diff(x)\n",
    "\n",
    "fp, fpp, fppp   # Outputting the first three derivatives"
   ]
  },
  {
   "cell_type": "markdown",
   "metadata": {},
   "source": [
    "**Method 2: Computing the higher order derivatives directly**  \n",
    "Much like how we add a tick (or prime) to our notation when taking the next higher order derivative, we simply add an argument to the `diff()` function!"
   ]
  },
  {
   "cell_type": "code",
   "execution_count": null,
   "metadata": {},
   "outputs": [],
   "source": [
    "fpp = f.diff(x, x)      # gives us the second derivative\n",
    "fppp = f.diff(x, x, x)   # gives us the third derivative\n",
    "fpp, fppp"
   ]
  },
  {
   "cell_type": "markdown",
   "metadata": {},
   "source": [
    "**Let's try some exercises! Compute the specified higher order derivative using SymPy.**  "
   ]
  },
  {
   "cell_type": "markdown",
   "metadata": {},
   "source": [
    "**Exercise 1:   \n",
    "Find the second derivative of the function, $f(x) = 3x^4$**"
   ]
  },
  {
   "cell_type": "code",
   "execution_count": null,
   "metadata": {},
   "outputs": [],
   "source": [
    "# Write your code here!"
   ]
  },
  {
   "cell_type": "markdown",
   "metadata": {},
   "source": [
    "**Exercise 2:   \n",
    "Find the third derivative of the function, $g(x) = \\cos(x)$**"
   ]
  },
  {
   "cell_type": "code",
   "execution_count": null,
   "metadata": {},
   "outputs": [],
   "source": [
    "# Write your code here!"
   ]
  },
  {
   "cell_type": "markdown",
   "metadata": {},
   "source": [
    "### **Root Finding: The Bisection Method**"
   ]
  },
  {
   "cell_type": "markdown",
   "metadata": {},
   "source": [
    "Let's consider the function, $f(x) = x -\\cos(x)$ on the interval $\\left[0, \\displaystyle\\frac{\\pi}{2}\\right]$\n",
    "\n",
    "$f(x)$ is a continuous function, can you explain why?   \n",
    "\n",
    "**Double-click** on the empty markdown cell below to type your answer! Hit `shift + enter` once you're done."
   ]
  },
  {
   "cell_type": "markdown",
   "metadata": {},
   "source": []
  },
  {
   "cell_type": "markdown",
   "metadata": {},
   "source": [
    "First, we can evaluate $f$ at $x = 0$ and $x = \\displaystyle\\frac{\\pi}{2}$, the endpoints of our interval:"
   ]
  },
  {
   "cell_type": "code",
   "execution_count": null,
   "metadata": {},
   "outputs": [],
   "source": [
    "f = x - sy.cos(x)\n",
    "f.subs(x, 0), f.subs(x, sy.pi/2)"
   ]
  },
  {
   "cell_type": "markdown",
   "metadata": {},
   "source": [
    "Since $f$ changes from negative to positive, by the Intermediate Value Theorem, we know that $f(c) = 0$, for some $c$ in $\\left(0, \\displaystyle\\frac{\\pi}{2}\\right)$. \n",
    "\n",
    "Except, we can't solve for it! We instead have to approximate it, using the Bisection Method of root finding.\n",
    "\n",
    "The goal is to continuously cut our interval in half, we know $c$ exists, but we dont know where exactly. We start by computing $f$ at the midpoint of the interval, if the result is zero, or sufficiently close to it, we've found our root, otherwise we halve our interval depending on the sign of $f$ at the midpoint, and repeat until a specified level of precision (or length of the interval) is reached."
   ]
  },
  {
   "cell_type": "markdown",
   "metadata": {},
   "source": [
    "Our goal is to eventually find an interval of length $\\displaystyle\\frac{\\pi}{32}$ that contains the root.\n",
    "\n",
    "The midpoint of our interval is $\\displaystyle\\frac{\\pi}{4}$, so let's compute $f\\left(\\displaystyle\\frac{\\pi}{4}\\right)$"
   ]
  },
  {
   "cell_type": "code",
   "execution_count": null,
   "metadata": {},
   "outputs": [],
   "source": [
    "f.subs(x, sy.pi/4)"
   ]
  },
  {
   "cell_type": "markdown",
   "metadata": {},
   "source": [
    "We can also get a decimal approximation for $f\\left(\\displaystyle\\frac{\\pi}{4}\\right)$ using the `evalf()` function.  \n",
    "This will be more helpful, since we are only concerned with the signs of our results."
   ]
  },
  {
   "cell_type": "code",
   "execution_count": null,
   "metadata": {},
   "outputs": [],
   "source": [
    "f.subs(x, sy.pi/4).evalf()"
   ]
  },
  {
   "cell_type": "markdown",
   "metadata": {},
   "source": [
    "As we can see $f\\left(\\displaystyle\\frac{\\pi}{4}\\right) > 0$, so our new sub-interval is $\\left[0, \\displaystyle\\frac{\\pi}{4}\\right]$. The length of this interval is $\\displaystyle\\frac{\\pi}{4} - 0 = \\displaystyle\\frac{\\pi}{4}$\n",
    "\n",
    "Let's evaluate $f(x)$ at the new midpoint, $x = \\displaystyle\\frac{\\pi}{8}$  "
   ]
  },
  {
   "cell_type": "code",
   "execution_count": null,
   "metadata": {},
   "outputs": [],
   "source": [
    "f.subs(x, sy.pi/8).evalf()"
   ]
  },
  {
   "cell_type": "markdown",
   "metadata": {},
   "source": [
    "$f\\left(\\displaystyle\\frac{\\pi}{8}\\right) < 0$, so our new sub-interval is $\\left[\\displaystyle\\frac{\\pi}{8}, \\displaystyle\\frac{\\pi}{4}\\right]$. The length of this interval is $\\displaystyle\\frac{\\pi}{4} - \\displaystyle\\frac{\\pi}{8} = \\displaystyle\\frac{\\pi}{8}  $   \n",
    "\n",
    "Let's evaluate $f(x)$ at the new midpoint, $x = \\displaystyle\\frac{3\\pi}{16}$, **but this time it's your turn!**\n",
    "\n",
    "**Continue with the Bisection Method until you find an interval of length $\\displaystyle\\frac{\\pi}{32}$ containing the root. Use the code cells below.**"
   ]
  },
  {
   "cell_type": "code",
   "execution_count": null,
   "metadata": {},
   "outputs": [],
   "source": [
    "# Write your code here! Look at previous cells/steps if you get stuck"
   ]
  },
  {
   "cell_type": "code",
   "execution_count": null,
   "metadata": {},
   "outputs": [],
   "source": [
    "# Write your code here! "
   ]
  },
  {
   "cell_type": "code",
   "execution_count": null,
   "metadata": {},
   "outputs": [],
   "source": [
    "# Write your code here! "
   ]
  },
  {
   "cell_type": "code",
   "execution_count": null,
   "metadata": {},
   "outputs": [],
   "source": [
    "# Write your code here! "
   ]
  }
 ],
 "metadata": {
  "kernelspec": {
   "display_name": "Python 3 (ipykernel)",
   "language": "python",
   "name": "python3"
  },
  "language_info": {
   "codemirror_mode": {
    "name": "ipython",
    "version": 3
   },
   "file_extension": ".py",
   "mimetype": "text/x-python",
   "name": "python",
   "nbconvert_exporter": "python",
   "pygments_lexer": "ipython3",
   "version": "3.9.6"
  }
 },
 "nbformat": 4,
 "nbformat_minor": 2
}
