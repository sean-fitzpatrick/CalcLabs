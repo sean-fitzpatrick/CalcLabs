{
 "cells": [
  {
   "cell_type": "markdown",
   "id": "12d3fb24-3b18-4d16-a80a-362fe8d0af40",
   "metadata": {},
   "source": [
    "# Intro to NumPy for Calculus\n",
    "\n",
    "By Raheem Mir"
   ]
  },
  {
   "cell_type": "markdown",
   "id": "a81d1a4e-6e67-4b82-b680-f5e8e5caa53f",
   "metadata": {},
   "source": [
    "When it comes numerical computation, NumPy is the Python package / library of choice, offering performance and lots of functionality, making it a powerful tool for doing calculus."
   ]
  },
  {
   "cell_type": "markdown",
   "id": "60d10113-8320-4784-9ce8-aa83af618e80",
   "metadata": {},
   "source": [
    "## Getting Started With NumPy"
   ]
  },
  {
   "cell_type": "markdown",
   "id": "fe325e14-8187-4e92-924b-4a53a6ebf42e",
   "metadata": {},
   "source": [
    "To begin using NumPy, we start by \"importing\" the library:"
   ]
  },
  {
   "cell_type": "code",
   "execution_count": null,
   "id": "dee953fa-6bfc-4e1e-83d4-2034e5eabd13",
   "metadata": {},
   "outputs": [],
   "source": [
    "import numpy as np"
   ]
  },
  {
   "cell_type": "markdown",
   "id": "9658a9d3-4042-4d34-b57c-bbbc80ece6b5",
   "metadata": {},
   "source": [
    "`import numpy as np` loads in NumPy for us to use. We give it the shorthand name `np`, meaning every time we call something from NumPy, we prefix it with `np.`. This is a good way to keep things organized when we are working with multiple libraries."
   ]
  },
  {
   "cell_type": "markdown",
   "id": "e9ae223d-154d-46cb-b9d3-c75bbef40703",
   "metadata": {},
   "source": [
    "NumPy implements many of the common mathematical functions, like trigonometric functions, logarithms and more: "
   ]
  },
  {
   "cell_type": "code",
   "execution_count": null,
   "id": "20b9e024-d7dc-483d-8543-7eaed7c7f60f",
   "metadata": {},
   "outputs": [],
   "source": [
    "np.sin(0) "
   ]
  },
  {
   "cell_type": "code",
   "execution_count": null,
   "id": "409b40c7-43a4-4c48-a47b-fdf96053af05",
   "metadata": {},
   "outputs": [],
   "source": [
    "np.pi/4"
   ]
  },
  {
   "cell_type": "code",
   "execution_count": null,
   "id": "76905fa0-f380-4325-b0e9-306d30a60f3f",
   "metadata": {},
   "outputs": [],
   "source": [
    "np.tan(np.pi/4)"
   ]
  },
  {
   "cell_type": "code",
   "execution_count": null,
   "id": "71234d4f-1839-4354-ad7c-0e01014fd566",
   "metadata": {},
   "outputs": [],
   "source": [
    "np.arctan(1)"
   ]
  },
  {
   "cell_type": "code",
   "execution_count": null,
   "id": "dab1d4f7-558a-4943-8948-8f7a48ea54c1",
   "metadata": {},
   "outputs": [],
   "source": [
    "np.e"
   ]
  },
  {
   "cell_type": "code",
   "execution_count": null,
   "id": "d353e471-0712-4f2c-84a5-21237e67c94a",
   "metadata": {},
   "outputs": [],
   "source": [
    "np.log(np.e)  #np.log is the natural logarithm, NumPy also offers base 10 and base 2 logarithms"
   ]
  },
  {
   "cell_type": "markdown",
   "id": "e43938fd-85d3-461a-9519-a3eb03227256",
   "metadata": {},
   "source": [
    "## Working with Arrays"
   ]
  },
  {
   "cell_type": "markdown",
   "id": "8e7ea9ac-c203-4eb6-b632-b5860b9d055c",
   "metadata": {},
   "source": [
    "The defining feature of NumPy is the NumPy array, a powerful data structure optimized for numerical computation. Think of them as the Python lists we've seen before (in Intro to Python for Calculus), but significantly more efficient and powerful, well suited for performing calculus tasks. Additionally, the many mathematical functions (as well as others) implemented in NumPy can be directly applied to arrays without the need for loops (less code, more functionality)."
   ]
  },
  {
   "cell_type": "markdown",
   "id": "07027658-4f03-46b2-a05e-0c0e535a39a1",
   "metadata": {},
   "source": [
    "Creating a NumPy array is straightforward, generally we use the `np.array()` function:"
   ]
  },
  {
   "cell_type": "code",
   "execution_count": null,
   "id": "25cd96eb-8e61-4eae-8d03-96d510808d2f",
   "metadata": {},
   "outputs": [],
   "source": [
    "primes = np.array([2,3,5,7,11,13])  # creating an array of prime numbers\n",
    "print(primes)"
   ]
  },
  {
   "cell_type": "markdown",
   "id": "85f2609f-fb3f-4f7b-a41e-f5ad186e632f",
   "metadata": {},
   "source": [
    "NumPy also provides specialized functions for creating arrays, one of them being `np.linspace()`, which generates a set of evenly spaced values over a given interval (inclusive). This function is particularly useful for calculus tasks, from generating $x$-values to plot a function, to defining intervals for numerical approximations like Riemann sums. \n",
    "\n",
    "The syntax is as follows:\n",
    "```python\n",
    "np.linspace(a, b, N)\n",
    "```\n",
    "`a` is the beginning of the interval, while `b` is the end of the interval.    \n",
    "`N` specifies the number of values to generate in between `a` and `b`."
   ]
  },
  {
   "cell_type": "markdown",
   "id": "aa13b1cd-45b0-4c3a-a830-cbf31fc0476b",
   "metadata": {},
   "source": [
    "Here we create a NumPy array of 11 evenly spaced values between 0 and 1:"
   ]
  },
  {
   "cell_type": "code",
   "execution_count": null,
   "id": "a3e9ff2c-bbf5-4519-8a30-1bb3478088f3",
   "metadata": {},
   "outputs": [],
   "source": [
    "x = np.linspace(0, 1, 11)\n",
    "print(x) "
   ]
  },
  {
   "cell_type": "markdown",
   "id": "7c685f20-f074-4342-a7b4-c5a81222ca2b",
   "metadata": {},
   "source": [
    "Like with lists, we can access individual elements of a NumPy array by specifying their index, which **starts at 0** (i.e. the first element is at index 0).\n",
    "\n",
    "Here's how we would access (and output) the first two elements of the array `x`:"
   ]
  },
  {
   "cell_type": "code",
   "execution_count": null,
   "id": "c4fd9e31-61a8-4efb-a9eb-71124426524b",
   "metadata": {},
   "outputs": [],
   "source": [
    "print(x[0], x[1])"
   ]
  },
  {
   "cell_type": "markdown",
   "id": "2ee87255-2e4a-42e5-a6b1-3950d0b1843b",
   "metadata": {},
   "source": [
    "To access elements from the end of an array, we use negative indices. For instance, `[-1]` would specify the last index of an array.  \n",
    "\n",
    "Below is how we would access the last three elements of `x`:"
   ]
  },
  {
   "cell_type": "code",
   "execution_count": null,
   "id": "467675c0-b934-457c-ae81-5c16ddbdd9c6",
   "metadata": {},
   "outputs": [],
   "source": [
    "print(x[-3], x[-2], x[-1])"
   ]
  },
  {
   "cell_type": "markdown",
   "id": "4f8e5b67-f59c-4708-982e-85e6fe1bb306",
   "metadata": {},
   "source": [
    "Using a colon `:` inside the `[]`  allows us to select a range of elements from an array, which is known as \"slicing\". For example, `x[:]` would access the entire array:"
   ]
  },
  {
   "cell_type": "code",
   "execution_count": null,
   "id": "408db6e9-9a00-4dc2-a085-910a07f89d14",
   "metadata": {},
   "outputs": [],
   "source": [
    "x[:] # retrieves all the elements of the array"
   ]
  },
  {
   "cell_type": "markdown",
   "id": "5232e5d1-785e-4c44-80d1-e63cbd8c2921",
   "metadata": {},
   "source": [
    "To retrieve the entries after a certain index, we would place the `:` to the right of the index value inside the `[]`:"
   ]
  },
  {
   "cell_type": "code",
   "execution_count": null,
   "id": "15142729-6e0b-42a8-89e0-126457903dda",
   "metadata": {},
   "outputs": [],
   "source": [
    "x[2:] # outputs the elements from the third index onwards "
   ]
  },
  {
   "cell_type": "markdown",
   "id": "069e5a14-78a8-4ddf-bbbf-6d5eb450c370",
   "metadata": {},
   "source": [
    "To retrieve the entries before a particular index, we would place the `:` to the left of the index value inside the `[]`:"
   ]
  },
  {
   "cell_type": "code",
   "execution_count": null,
   "id": "e94905e6-f519-44b9-94a1-ff66d171b4c2",
   "metadata": {},
   "outputs": [],
   "source": [
    "x[:7] # outputs the first 7 elements"
   ]
  },
  {
   "cell_type": "markdown",
   "id": "cb23638f-5573-4ff4-8950-f6f3103e989b",
   "metadata": {},
   "source": [
    "We can also explicitly state the starting and ending index of what we want to access:"
   ]
  },
  {
   "cell_type": "code",
   "execution_count": null,
   "id": "e2100be3-d7a0-4b2b-8501-b3f4caff0caa",
   "metadata": {},
   "outputs": [],
   "source": [
    "x[3:8] # Retrieves elements from index 3 up to, but not including, index 8"
   ]
  },
  {
   "cell_type": "markdown",
   "id": "2c96cf93-a9fa-4788-8a39-67788c18cae5",
   "metadata": {},
   "source": [
    "Although we'll most often be using `np.linspace()` for our NumPy arrays, here is a brief overview of some of the other functions available:"
   ]
  },
  {
   "cell_type": "markdown",
   "id": "0d937e39-fa32-4d16-9261-1a280459629e",
   "metadata": {},
   "source": [
    "`np.arange(a, b, step)` generates a NumPy array with values starting at `a` up to, but not including, `b`. The `step` parameter let's you control the difference between consecutive values in the array.   \n",
    "\n",
    "`np.ones(N)` generates an array of only 1's, with a length of N.\n",
    "\n",
    "`np.zeros(N)` is similar to `np.ones()`, generating an array of only 0's, with a length of N."
   ]
  },
  {
   "cell_type": "code",
   "execution_count": null,
   "id": "d5baf39a-2f70-42fe-96df-cd6e9e71b25a",
   "metadata": {},
   "outputs": [],
   "source": [
    "even_numbers = np.arange(0, 20, 2)\n",
    "print(even_numbers)"
   ]
  },
  {
   "cell_type": "code",
   "execution_count": null,
   "id": "4d1ec02c-e2bb-4231-b4df-f0dd8f3ec785",
   "metadata": {},
   "outputs": [],
   "source": [
    "ones = np.ones(10)\n",
    "print(ones)"
   ]
  },
  {
   "cell_type": "code",
   "execution_count": null,
   "id": "761132fd-a066-4743-a795-b9157ba8ab17",
   "metadata": {},
   "outputs": [],
   "source": [
    "zeros = np.zeros(20)\n",
    "print(zeros)"
   ]
  },
  {
   "cell_type": "markdown",
   "id": "f47b1a92-62c6-42b3-a2a0-b72749f8234b",
   "metadata": {},
   "source": [
    "## Plotting With NumPy and Matplotlib"
   ]
  },
  {
   "cell_type": "markdown",
   "id": "f79342c6-97f9-46ce-b41b-281839a32d9d",
   "metadata": {},
   "source": [
    "We can use NumPy in conjunction with Matplotlib, the popular Python plotting library, to visualize functions."
   ]
  },
  {
   "cell_type": "markdown",
   "id": "1b4bcc4c-b6a4-4bc4-974f-eb85f31047d0",
   "metadata": {},
   "source": [
    "First, we have to import Matplotlib, in particular, its `pyplot` module:"
   ]
  },
  {
   "cell_type": "code",
   "execution_count": null,
   "id": "4fd24bd6-94ea-4981-9c1d-8a054d11a575",
   "metadata": {},
   "outputs": [],
   "source": [
    "import matplotlib.pyplot as plt"
   ]
  },
  {
   "cell_type": "markdown",
   "id": "f18aec4e-a85e-4353-8fbe-e94d3aada49c",
   "metadata": {},
   "source": [
    "Here is the general framework for creating a basic plot:\n",
    "\n",
    "1. Generating $x$ values: This often involves using the `np.linspace()` function.\n",
    "   \n",
    "3. Generating $y$ values: This typically includes defining or using a function to compute the `y` values.\n",
    "   \n",
    "5. Creating the plot: Call the `plt.plot()` function, passing in the $x$ and $y$ values, to create the plot.\n",
    "   \n",
    "7. Customize the plot (Optional): Use additional Matplotlib functions, such as `plt.xlabel()`, or `plt.grid()`, to customize the plot.\n",
    "   \n",
    "9. Displaying the plot: Use the `plt.show()` function to display the plot. In a Jupyter Notebook environment, this step is not neccessary, as plots display automatically when you call `plt.plot()`. However, it is still recommended to use `plt.show()`, for a cleaner output and proper rendering."
   ]
  },
  {
   "cell_type": "markdown",
   "id": "899cd901-2902-44dd-89a8-27fd797e9b45",
   "metadata": {},
   "source": [
    "Now let's plot $\\cos(x)$ over the interval $[-2\\pi, 2\\pi]$:"
   ]
  },
  {
   "cell_type": "markdown",
   "id": "c6a5686c-4dc8-42e1-9c49-06e818a67e69",
   "metadata": {},
   "source": [
    "First, let's generate our $x$-values using `np.linspace()`:"
   ]
  },
  {
   "cell_type": "code",
   "execution_count": null,
   "id": "a35cb995-155e-4f11-b169-b020c2f20b7e",
   "metadata": {},
   "outputs": [],
   "source": [
    "x1 = np.linspace(-2*np.pi, 2*np.pi, 100)"
   ]
  },
  {
   "cell_type": "markdown",
   "id": "a42bc5dc-5001-496e-a2be-629fa0019ea4",
   "metadata": {},
   "source": [
    "Next, we can define $y$ as a function $x$ using NumPy's `np.cos()` function:"
   ]
  },
  {
   "cell_type": "code",
   "execution_count": null,
   "id": "db4387fa-ef97-4392-9fc4-1f9a616152a2",
   "metadata": {},
   "outputs": [],
   "source": [
    "y1 = np.cos(x1)"
   ]
  },
  {
   "cell_type": "markdown",
   "id": "87ea45ec-0aca-4ac3-a900-1cd5cc513ad7",
   "metadata": {},
   "source": [
    "Now we can create and display our plot, passing in our $x$ and $y$ values to the `plt.plot()` function, as well as calling the `plt.show()` function to display it. You'll notice that we've added some axis labels as well."
   ]
  },
  {
   "cell_type": "code",
   "execution_count": null,
   "id": "425b9057-daae-486d-993e-b37c7a254f19",
   "metadata": {},
   "outputs": [],
   "source": [
    "plt.plot(x1,y1)  # creating the plot\n",
    "plt.xlabel('x')  \n",
    "plt.ylabel('cos(x)')\n",
    "plt.show()  # displaying the plot"
   ]
  },
  {
   "cell_type": "markdown",
   "id": "051e4e18-bb7e-4501-b3b6-6546269bfa91",
   "metadata": {},
   "source": [
    "Now, let's try plotting the function $f(x) = x^3 - x^2 -x + 1$ over the interval $[-5, 5]$:"
   ]
  },
  {
   "cell_type": "markdown",
   "id": "17ffcecd-fac4-48ba-bd4b-d74af8e63224",
   "metadata": {},
   "source": [
    "First, let's generate our $x$-values with `np.linspace()`:"
   ]
  },
  {
   "cell_type": "code",
   "execution_count": null,
   "id": "b6be4b95-5f31-42e1-a95f-44b4591c4094",
   "metadata": {},
   "outputs": [],
   "source": [
    "x2 = np.linspace(-5, 5, 500)  "
   ]
  },
  {
   "cell_type": "markdown",
   "id": "b0471771-70ae-47ab-bddf-b2bbe60a1d0a",
   "metadata": {},
   "source": [
    "Next, let's define the function we want to plot and generate our $y$-values:"
   ]
  },
  {
   "cell_type": "code",
   "execution_count": null,
   "id": "a72a3912-c283-4fca-88b3-cef69d660a88",
   "metadata": {},
   "outputs": [],
   "source": [
    "def f(x):\n",
    "    return x**3 - x**2 - x + 1"
   ]
  },
  {
   "cell_type": "code",
   "execution_count": null,
   "id": "c20e93ef-7aac-4458-974a-6dd3038f6547",
   "metadata": {},
   "outputs": [],
   "source": [
    "y2 = f(x2)"
   ]
  },
  {
   "cell_type": "markdown",
   "id": "136a2072-9175-4345-bb73-1610bec3ec81",
   "metadata": {},
   "source": [
    " To create and display the plot, we use the `plt.plot()` and `plt.show()` functions:"
   ]
  },
  {
   "cell_type": "code",
   "execution_count": null,
   "id": "e2bfd734-e0b1-4889-a060-62d2889249af",
   "metadata": {},
   "outputs": [],
   "source": [
    "plt.plot(x2,y2)  # creating the plot\n",
    "plt.xlabel('x')  \n",
    "plt.ylabel('f(x)')\n",
    "plt.show()"
   ]
  }
 ],
 "metadata": {
  "kernelspec": {
   "display_name": "Python 3 (ipykernel)",
   "language": "python",
   "name": "python3"
  },
  "language_info": {
   "codemirror_mode": {
    "name": "ipython",
    "version": 3
   },
   "file_extension": ".py",
   "mimetype": "text/x-python",
   "name": "python",
   "nbconvert_exporter": "python",
   "pygments_lexer": "ipython3",
   "version": "3.9.6"
  }
 },
 "nbformat": 4,
 "nbformat_minor": 5
}
