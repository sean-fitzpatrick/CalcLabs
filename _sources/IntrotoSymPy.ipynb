{
 "cells": [
  {
   "cell_type": "markdown",
   "metadata": {},
   "source": [
    "# Intro to SymPy for Calculus (Jupyter)\n",
    "\n",
    "By Raheem Mir"
   ]
  },
  {
   "cell_type": "markdown",
   "metadata": {},
   "source": [
    "Python has many powerful librairies that add convenience and functionality. One of them being SymPy, a feature rich library designed for symbolic mathematics. We can use it to simplify algebraic expressions, solve equations, and perform calculus tasks like evaluating limits or computing integrals. SymPy gives us exact symbolic answers instead of numerical approximations, handling math like we would on paper, which makes it a great tool for intuitively exploring calculus concepts."
   ]
  },
  {
   "cell_type": "markdown",
   "metadata": {},
   "source": [
    "## Getting Started With SymPy"
   ]
  },
  {
   "cell_type": "markdown",
   "metadata": {},
   "source": [
    "To begin using SymPy we start by \"importing\" the library:"
   ]
  },
  {
   "cell_type": "code",
   "execution_count": null,
   "metadata": {},
   "outputs": [],
   "source": [
    "import sympy as sy\n",
    "sy.init_printing() "
   ]
  },
  {
   "cell_type": "markdown",
   "metadata": {},
   "source": [
    "`import sympy as sy` loads in the SymPy library for us to use. We give it the shorthand name `sy`, so every time we call something from SymPy, we prefix it with `sy.`. This is a good way to keep things organized when we are working with multiple libraries.\n",
    "\n",
    "`sy.init_printing()` calls SymPy's `init_printing()` function, which gets the output to be displayed as nicely formatted mathematics."
   ]
  },
  {
   "cell_type": "markdown",
   "metadata": {},
   "source": [
    "A good next step is telling SymPy the variables we would like to use with the `symbols()` function:"
   ]
  },
  {
   "cell_type": "code",
   "execution_count": null,
   "metadata": {},
   "outputs": [],
   "source": [
    "x, y = sy.symbols('x y')  # this makes x and y symbols"
   ]
  },
  {
   "cell_type": "markdown",
   "metadata": {},
   "source": [
    "When creating a symbol using the `symbols()` function, we can specify additional arguments that can modify SymPy's assumptions when it's dealing with the symbol. These assumptions determine how SymPy handles a symbol in situations like square roots, solving, simplifications, and so on. For instance, `positive=True` tells SymPy that a particular symbol is a positive number, while using `real=True` indicates that a symbol represents a real number. "
   ]
  },
  {
   "cell_type": "markdown",
   "metadata": {},
   "source": [
    "A common task in SymPy is creating symbolic expressions to represent functions. The syntax is no different from assigning a variable.  \n",
    "Let's represent $f(x) = x^2 - 2x + 1$ in SymPy!"
   ]
  },
  {
   "cell_type": "code",
   "execution_count": null,
   "metadata": {},
   "outputs": [],
   "source": [
    "f = x**2 -2*x + 1  # defining a symbolic expression"
   ]
  },
  {
   "cell_type": "code",
   "execution_count": null,
   "metadata": {},
   "outputs": [],
   "source": [
    "f # outputting f(x)"
   ]
  },
  {
   "cell_type": "markdown",
   "metadata": {},
   "source": [
    "It is important to note that we are not actually creating a Python function here, which would be defined on an input/output basis, rather we are creating a symbolic representation of a function, that can be easily manipulated with algebra and/or calculus. As such, trying something like `f(5)` would return an error. To substitute values into `f`, we would use the `subs()` function:"
   ]
  },
  {
   "cell_type": "code",
   "execution_count": null,
   "metadata": {},
   "outputs": [],
   "source": [
    "f.subs(x, 4) #substituting 4 in for x"
   ]
  },
  {
   "cell_type": "markdown",
   "metadata": {},
   "source": [
    "SymPy also gives us a function for factoring a polynomial, `factor()`:"
   ]
  },
  {
   "cell_type": "code",
   "execution_count": null,
   "metadata": {},
   "outputs": [],
   "source": [
    "sy.factor(f)"
   ]
  },
  {
   "cell_type": "markdown",
   "metadata": {},
   "source": [
    "SymPy implements many of the common mathematical functions as well:"
   ]
  },
  {
   "cell_type": "code",
   "execution_count": null,
   "metadata": {},
   "outputs": [],
   "source": [
    "sy.cos(x)"
   ]
  },
  {
   "cell_type": "code",
   "execution_count": null,
   "metadata": {},
   "outputs": [],
   "source": [
    "sy.tan(x)"
   ]
  },
  {
   "cell_type": "code",
   "execution_count": null,
   "metadata": {},
   "outputs": [],
   "source": [
    "sy.pi, sy.exp(x)  # constants pi and e"
   ]
  },
  {
   "cell_type": "code",
   "execution_count": null,
   "metadata": {},
   "outputs": [],
   "source": [
    "sy.Abs(x)  # absolute value"
   ]
  },
  {
   "cell_type": "markdown",
   "metadata": {},
   "source": [
    "## Limits"
   ]
  },
  {
   "cell_type": "markdown",
   "metadata": {},
   "source": [
    "With SymPy, we can use its `limit()` function to compute and evaluate limits. The syntax is as follows:\n",
    "\n",
    "```python\n",
    "sy.limit(expression, variable, value)\n",
    "```\n",
    "\n",
    "`expression` is the SymPy representation of the function whose limit we are trying to find.  \n",
    "`variable` represents the variable that is approaching a specific value, and must be a SymPy symbol.  \n",
    "`value` represents the value the variable is approaching. If we are dealing with limits at infinity, we can use `sy.oo` and `-sy.oo` to dentote positive and negative infinity. \n",
    "\n",
    "To compute one-sided limits, we can add a fourth argument to the function, either a `'+'` or `'-'` for a right or left hand limit."
   ]
  },
  {
   "cell_type": "markdown",
   "metadata": {},
   "source": [
    "Let's evaluate $\\displaystyle \\lim_{x\\to 0}\\frac{\\sin(x)}{x}$ with the `limit()` function:"
   ]
  },
  {
   "cell_type": "code",
   "execution_count": null,
   "metadata": {},
   "outputs": [],
   "source": [
    "f = sy.sin(x) / x   # representing the function\n",
    "f"
   ]
  },
  {
   "cell_type": "code",
   "execution_count": null,
   "metadata": {},
   "outputs": [],
   "source": [
    "sy.limit(f, x, 0)  # calling the limit() function"
   ]
  },
  {
   "cell_type": "markdown",
   "metadata": {},
   "source": [
    "Since we set our symbolic representation equal to a variable, `f`, we could have also called `limit()` like this:"
   ]
  },
  {
   "cell_type": "code",
   "execution_count": null,
   "metadata": {},
   "outputs": [],
   "source": [
    "f.limit(x, 0)"
   ]
  },
  {
   "cell_type": "markdown",
   "metadata": {},
   "source": [
    "Note that we can also directly pass in a SymPy expression to the `limit()` function instead of using a variable. \n",
    "\n",
    "Let's use the `limit()` function to find the value of $\\displaystyle \\lim_{x\\to 0}\\dfrac{\\cos(x) - 1}{x}$. "
   ]
  },
  {
   "cell_type": "code",
   "execution_count": null,
   "metadata": {},
   "outputs": [],
   "source": [
    "sy.limit((sy.cos(x) - 1)/x, x, 0)"
   ]
  },
  {
   "cell_type": "markdown",
   "metadata": {},
   "source": [
    "Let's try adding a fourth argument in our call to `limit()`, and work with one-sided limits:  \n",
    "$\\displaystyle \\lim_{x\\to 0^-}\\dfrac{1}{x}$ "
   ]
  },
  {
   "cell_type": "code",
   "execution_count": null,
   "metadata": {},
   "outputs": [],
   "source": [
    "sy.limit(1/x, x, 0, '-')"
   ]
  },
  {
   "cell_type": "markdown",
   "metadata": {},
   "source": [
    "$\\displaystyle \\lim_{x\\to 0^+}\\dfrac{1}{x}$"
   ]
  },
  {
   "cell_type": "code",
   "execution_count": null,
   "metadata": {},
   "outputs": [],
   "source": [
    "sy.limit(1/x, x, 0, '+')"
   ]
  },
  {
   "cell_type": "markdown",
   "metadata": {},
   "source": [
    "Now let's explore a limit where $x$ is approaching $\\infty$: \n",
    "\n",
    "$\\displaystyle \\lim_{x\\to \\infty}\\dfrac{x^2 - 1}{3 - x}$"
   ]
  },
  {
   "cell_type": "code",
   "execution_count": null,
   "metadata": {},
   "outputs": [],
   "source": [
    "sy.limit((x**2 - 1) / (3 - x), x, sy.oo)"
   ]
  },
  {
   "cell_type": "markdown",
   "metadata": {},
   "source": [
    "## Derivatives"
   ]
  },
  {
   "cell_type": "markdown",
   "metadata": {},
   "source": [
    "To take derivatives we can use SymPy's `diff()` function:\n",
    "\n",
    "```python\n",
    "sy.diff(function,variable, ...)\n",
    "```\n",
    "\n",
    "`function` is the function we are differentiating. Note that this is a SymPy represenation of a function, not a traditional Python function.  \n",
    "`variable` is the variable with respect to which we are differentiating. This must be defined as a SymPy symbol.  \n",
    "`...` represents the possibility of adding further arguments, namely for higher order derivatives.\n"
   ]
  },
  {
   "cell_type": "markdown",
   "metadata": {},
   "source": [
    "Given the function $f(x) = 4x^2 + 6x - 2$ let's find $f'(x)$ using the `diff()` function:"
   ]
  },
  {
   "cell_type": "code",
   "execution_count": null,
   "metadata": {},
   "outputs": [],
   "source": [
    "f = 4*x**2 + 6*x - 2  # defining a symbolic representation of f(x)\n",
    "f  "
   ]
  },
  {
   "cell_type": "code",
   "execution_count": null,
   "metadata": {},
   "outputs": [],
   "source": [
    "f_prime = sy.diff(f, x)   # differentiating f with respect to x\n",
    "f_prime"
   ]
  },
  {
   "cell_type": "markdown",
   "metadata": {},
   "source": [
    "Like before, we have some freedom with the syntax when calling the `diff()` function:"
   ]
  },
  {
   "cell_type": "code",
   "execution_count": null,
   "metadata": {},
   "outputs": [],
   "source": [
    "f_prime = f.diff(x) \n",
    "f_prime"
   ]
  },
  {
   "cell_type": "markdown",
   "metadata": {},
   "source": [
    "Now let's differentiate $g(x) = x^2\\sin(x)$ with `diff()`:"
   ]
  },
  {
   "cell_type": "code",
   "execution_count": null,
   "metadata": {},
   "outputs": [],
   "source": [
    "g = sy.sin(x)*x**2\n",
    "g_prime = g.diff(x)\n",
    "g_prime"
   ]
  },
  {
   "cell_type": "markdown",
   "metadata": {},
   "source": [
    "The `diff()` function can also compute higher order derivatives, as we simply add more arguments to our function call! This is not unlike how we add a tick (or prime) to our notation when taking the next higher order derivative when working on paper."
   ]
  },
  {
   "cell_type": "markdown",
   "metadata": {},
   "source": [
    "Given $f(x) = \\sin(x)$ let's find its second and third derivatives:"
   ]
  },
  {
   "cell_type": "code",
   "execution_count": null,
   "metadata": {},
   "outputs": [],
   "source": [
    "f1 = sy.sin(x)\n",
    "fpp = f1.diff(x, x) # second derivative of f(x)\n",
    "fppp = f1.diff(x, x, x) # third derivative of f(x)\n",
    "\n",
    "print(fpp, fppp)"
   ]
  },
  {
   "cell_type": "markdown",
   "metadata": {},
   "source": [
    "Instead of writing out a particular variable multiple times, we can also compute higher order derivatives like this:"
   ]
  },
  {
   "cell_type": "code",
   "execution_count": null,
   "metadata": {},
   "outputs": [],
   "source": [
    "fpp = f1.diff(x, 2)\n",
    "fppp = f1.diff(x, 3)\n",
    "\n",
    "print(fpp, fppp)"
   ]
  },
  {
   "cell_type": "markdown",
   "metadata": {},
   "source": [
    "## Plotting"
   ]
  },
  {
   "cell_type": "markdown",
   "metadata": {},
   "source": [
    "SymPy also provides functionality for visualizing / plotting functions:\n",
    "\n",
    "We simply use the `plot()` function, like so:  \n",
    "```python\n",
    "sy.plot(f, domain, ...)\n",
    "```\n",
    "`f` represents the function (or functions) we are visualizing, which can be written explicitly or passed in as a variable.   \n",
    "\n",
    "`domain` refers to the interval we are the plotting the function(s) over, the default is $[-10, 10]$.    \n",
    "\n",
    "`...` alludes to the many optional arguments we can use to change the plot's appearance and behaviour.   \n",
    "An example would be the argument `show=False`, which stops the graph from being displayed until we use the command, `.show()`."
   ]
  },
  {
   "cell_type": "markdown",
   "metadata": {},
   "source": [
    "Let's plot $f(x) = x^2$ over the interval $[-5, 5]$:"
   ]
  },
  {
   "cell_type": "code",
   "execution_count": null,
   "metadata": {},
   "outputs": [],
   "source": [
    "p = sy.plot(x**2, (x, -5, 5))  # notice how we input the domain"
   ]
  },
  {
   "cell_type": "markdown",
   "metadata": {},
   "source": [
    "Interestingly, we don't need to type `p` on the next line for the plot to output, like we'd have to when using other SymPy functions. Also, we save our plot to a variable as it's more efficient when we are manipulating/adjusting an existing plot, or wanting more control over customization. "
   ]
  },
  {
   "cell_type": "markdown",
   "metadata": {},
   "source": [
    "Now let's plot $f(x) = \\sin(5x)$ on the interval $[0, 2\\pi]$ and add an optional argument to change the color of the line!"
   ]
  },
  {
   "cell_type": "code",
   "execution_count": null,
   "metadata": {},
   "outputs": [],
   "source": [
    "p1 = sy.plot(sy.sin(5*x), (x, 0, sy.pi*2), line_color='purple')   # using SymPy's built in functions for sin and pi"
   ]
  },
  {
   "cell_type": "markdown",
   "metadata": {},
   "source": [
    "Here we plot $f(x) = \\ln(x)$ on the interval $[-10, 10]$. Like with the trigonomtric functions, we'll be using SymPy's built in function for natural logarithms, `sy.ln()`. Remember that $[-10, 10]$ is the default domain so we don't need to write it."
   ]
  },
  {
   "cell_type": "code",
   "execution_count": null,
   "metadata": {},
   "outputs": [],
   "source": [
    "p2 = sy.plot(sy.ln(x), line_color=\"green\")"
   ]
  },
  {
   "cell_type": "markdown",
   "metadata": {},
   "source": [
    "\n",
    "SymPy's plotting functionality also gives us the ability to plot multiple functions together, allowing us to combine different plots. \n",
    "\n",
    "Let's illustrate this with an example, by plotting the following equations:  \n",
    "\n",
    "$y = x$, $y = x^2$ , $y = x^3$, and $y = x^4$ over the interval $[0, 2]$:"
   ]
  },
  {
   "cell_type": "code",
   "execution_count": null,
   "metadata": {},
   "outputs": [],
   "source": [
    "multi_plot = sy.plot(x, x**2, x**3, x**4, (x, 0, 2), legend=True)  # adding a legend to our plot"
   ]
  },
  {
   "cell_type": "markdown",
   "metadata": {},
   "source": [
    "SymPy also lets us combine existing plots, with the `extend()` function:"
   ]
  },
  {
   "cell_type": "code",
   "execution_count": null,
   "metadata": {},
   "outputs": [],
   "source": [
    "plot_a = sy.plot(-x**2, show=False) \n",
    "plot_b = sy.plot(-x, show=False)\n",
    "plot_a.extend(plot_b)\n",
    "plot_a.show()"
   ]
  },
  {
   "cell_type": "markdown",
   "metadata": {},
   "source": [
    "Notice how we added the `show=False` parameter to our plots, so they do not output until we use `.show()`. "
   ]
  },
  {
   "cell_type": "markdown",
   "metadata": {},
   "source": [
    "## Integration"
   ]
  },
  {
   "cell_type": "markdown",
   "metadata": {},
   "source": [
    "To compute integrals we can use SymPy's `integrate` function:\n",
    "\n",
    "For indefinite integrals (antiderivatives), the syntax is quite similar to the `diff()` function: \n",
    "```python\n",
    "sy.integrate(expression, variable)\n",
    "```\n",
    "\n",
    "`expression` is a SymPy representation of the function we want to integrate.  \n",
    "\n",
    "`variable` is the variable of integration and must be defined as a SymPy symbol.\n",
    "\n",
    "One thing to note is that SymPy does not include a constant of integration (the \"$+ c$\").\n",
    "\n",
    "For definite integrals the syntax changes a bit:\n",
    "```python\n",
    "sy.integrate(expression, (variable, lower_limit, upper_limit)) \n",
    "```\n",
    "`expression` is the same as with indefinite integrals, a SymPy representation of the function we want to integrate. \n",
    "\n",
    "`(variable, lower_limit, upper_limit)` is known as a tuple in Python, a container of more arguments, where:  \n",
    "\n",
    "`variable` is the same as with indefinite integrals, the variable of integration that must be defined as a SymPy symbol.  \n",
    "\n",
    "`lower_limit` and `upper_limit` are the lower and upper bounds of integration.\n"
   ]
  },
  {
   "cell_type": "markdown",
   "metadata": {},
   "source": [
    "Let's evaluate the indefinite integral $\\int \\sin(x) \\ dx$ with the `integrate()` function:"
   ]
  },
  {
   "cell_type": "code",
   "execution_count": null,
   "metadata": {},
   "outputs": [],
   "source": [
    "indef_integral = sy.integrate(sy.sin(x), x)\n",
    "indef_integral"
   ]
  },
  {
   "cell_type": "markdown",
   "metadata": {},
   "source": [
    "Now let's evaluate the indefinite integral $\\int x^3 \\ dx$ with `integrate()`:"
   ]
  },
  {
   "cell_type": "code",
   "execution_count": null,
   "metadata": {},
   "outputs": [],
   "source": [
    "indef_integral1 = sy.integrate(x**3, x)\n",
    "indef_integral1"
   ]
  },
  {
   "cell_type": "markdown",
   "metadata": {},
   "source": [
    "Next, let's look at evaluating definite integrals with the `integrate()` function:\n",
    "\n",
    "$\\int_{-3}^{3} x^7 - x^3 \\, dx$\n"
   ]
  },
  {
   "cell_type": "code",
   "execution_count": null,
   "metadata": {},
   "outputs": [],
   "source": [
    "def_integral = sy.integrate(x**7 - x**3, (x, -3, 3))\n",
    "def_integral "
   ]
  },
  {
   "cell_type": "markdown",
   "metadata": {},
   "source": [
    "Now, let's evaluate the definite integral $\\int_{1}^{2} e^x \\, dx$"
   ]
  },
  {
   "cell_type": "code",
   "execution_count": null,
   "metadata": {},
   "outputs": [],
   "source": [
    "def_integral1 = sy.integrate(sy.exp(x), (x, 1, 2))\n",
    "def_integral1 "
   ]
  },
  {
   "cell_type": "markdown",
   "metadata": {},
   "source": [
    "After computing $\\int_{1}^{2} e^x \\, dx$ symbolically (the result is kept as an exact value), we can also find its numerical value with SymPy's `evalf()` function:"
   ]
  },
  {
   "cell_type": "code",
   "execution_count": null,
   "metadata": {},
   "outputs": [],
   "source": [
    "numerical_result = def_integral1.evalf()\n",
    "numerical_result"
   ]
  }
 ],
 "metadata": {
  "kernelspec": {
   "display_name": "Python 3 (ipykernel)",
   "language": "python",
   "name": "python3"
  },
  "language_info": {
   "codemirror_mode": {
    "name": "ipython",
    "version": 3
   },
   "file_extension": ".py",
   "mimetype": "text/x-python",
   "name": "python",
   "nbconvert_exporter": "python",
   "pygments_lexer": "ipython3",
   "version": "3.9.6"
  }
 },
 "nbformat": 4,
 "nbformat_minor": 4
}
