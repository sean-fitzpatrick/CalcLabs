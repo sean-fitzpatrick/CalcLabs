{
 "cells": [
  {
   "cell_type": "markdown",
   "metadata": {},
   "source": [
    "# Calculus 1, Lab 1: Limits and Python!\n",
    "\n",
    "By Raheem Mir"
   ]
  },
  {
   "cell_type": "markdown",
   "metadata": {},
   "source": [
    "## Welcome!\n",
    "We are going to be using some Python to explore and work through calculus concepts. Now don't worry, you don't need to be a seasoned programmer or have any previous experience. We'll just be writing some simple code and make use of powerful libraries that do the heavy lifting for us!\n",
    "\n",
    "For a review of basic Python syntax, see [the introduction](./python.md)."
   ]
  },
  {
   "cell_type": "markdown",
   "metadata": {},
   "source": [
    "## Using SymPy and NumPy\n",
    "\n"
   ]
  },
  {
   "cell_type": "markdown",
   "metadata": {},
   "source": [
    "Python has many powerful librairies that add convenience and functionality. Two great libraries that we'll be using for doing calculus with Python, are SymPy and NumPy.  "
   ]
  },
  {
   "cell_type": "markdown",
   "metadata": {},
   "source": [
    "SymPy is a feature rich library designed for symbolic mathematics. We can use it to do symbolic calculations and manipulations, meaning, it deals with math like we do on paper. It can simplify algebraic expressions, solve equations, perform calculus tasks like evaluating limits or computing integrals and a plethora of other mathematical operations. SymPy gives us exact symbolic answers instead of numerical approximations, making it a great tool for intuitively exploring calculus concepts.   \n",
    "\n",
    "To begin using SymPy we start by \"importing\" the library:"
   ]
  },
  {
   "cell_type": "code",
   "execution_count": null,
   "metadata": {},
   "outputs": [],
   "source": [
    "# Make sure to run this cell! (shift + enter)\n",
    "import sympy as sy\n",
    "sy.init_printing() "
   ]
  },
  {
   "cell_type": "markdown",
   "metadata": {},
   "source": [
    "The line: `import sympy as sy` loads in the SymPy library for us to use. We give it the shorthand name `sy`, so every time we call something from SymPy, we prefix it with `sy.`. This is a good way to keep things organized when we are working with multiple libraries.  \n",
    "\n",
    "The next line: `sy.init_printing()` calls SymPy's `init_printing()` function, which gets the output to be displayed as nicely formatted mathematics.\n",
    "\n",
    "A good next step is telling SymPy the variables we would like to use with the `symbols()` function."
   ]
  },
  {
   "cell_type": "code",
   "execution_count": null,
   "metadata": {},
   "outputs": [],
   "source": [
    "x, y, z = sy.symbols('x y z')    # this makes x, y, and z symbols"
   ]
  },
  {
   "cell_type": "markdown",
   "metadata": {},
   "source": [
    "SymPy is great for defining (and working with) symbolic expressions:"
   ]
  },
  {
   "cell_type": "code",
   "execution_count": null,
   "metadata": {},
   "outputs": [],
   "source": [
    "f = x**2-5*x+6\n",
    "f, f.factor()"
   ]
  },
  {
   "cell_type": "markdown",
   "metadata": {},
   "source": [
    "We will provide you with the tools you need for this lab assignment, but an [overview of SymPy](./sympy.md) is available if you'd like to take a look at what's available."
   ]
  },
  {
   "cell_type": "markdown",
   "metadata": {},
   "source": [
    "While SymPy is great for symbolic manipulation, when it comes numerical computation, NumPy is the library of choice. Think of it as a high powered calculator with a large toolset. It implements many common mathematical functions, like trigonometric functions, logarithms and more.  \n",
    "\n",
    "To start using NumPy, like we did with SymPy, we have to import it:"
   ]
  },
  {
   "cell_type": "code",
   "execution_count": null,
   "metadata": {},
   "outputs": [],
   "source": [
    "# Make sure to run this cell! (shift + enter)\n",
    "import numpy as np"
   ]
  },
  {
   "cell_type": "markdown",
   "metadata": {},
   "source": [
    "Just as before, the `import as` syntax loads in a particular Python library and creates a shorthand name for it to call functions with. In this case, when we want to use a function from NumPy, we prefix it with `np.`."
   ]
  },
  {
   "cell_type": "markdown",
   "metadata": {},
   "source": [
    "Now to walkthrough some examples:\n",
    "\n",
    "Let's call the function $\\sin(x)$ using `np.sin()` and evaluate $\\sin(π)$:"
   ]
  },
  {
   "cell_type": "code",
   "execution_count": null,
   "metadata": {},
   "outputs": [],
   "source": [
    "np.sin(np.pi) # should output a value very close to zero"
   ]
  },
  {
   "cell_type": "markdown",
   "metadata": {},
   "source": [
    "Notice how we used `np.pi`, to represent the constant $π$ in NumPy.\n",
    "\n",
    "Here's $\\tan(π/4)$ using `np.tan()`:"
   ]
  },
  {
   "cell_type": "code",
   "execution_count": null,
   "metadata": {},
   "outputs": [],
   "source": [
    "np.tan(np.pi/4) "
   ]
  },
  {
   "cell_type": "markdown",
   "metadata": {},
   "source": [
    "NumPy is also a bit different than SymPy when it comes to handling functions. In SymPy, we simply define symbolic expressions to represent functions:\n",
    "\n",
    "In SymPy we would write something like: `f = sy.sqrt(x**3 + sy.sin(x))` (after defining 'x' as a symbol)  \n",
    "\n",
    "and then recieve a nicely formatted ouput when displaying `f`: $\\sqrt{x^3 + \\sin^2(x)}$.\n",
    "\n",
    "In NumPy however, we use Python's `def` syntax to define functions. This gives us the ability to evaluate functions at specific values, and have the convenience of instant numerical outputs. \n",
    "\n",
    "Here's how we would define the same function in NumPy:"
   ]
  },
  {
   "cell_type": "code",
   "execution_count": null,
   "metadata": {},
   "outputs": [],
   "source": [
    "def g(x):\n",
    "    return np.sqrt(x**3 + np.sin(x)**2)"
   ]
  },
  {
   "cell_type": "markdown",
   "metadata": {},
   "source": [
    "We can't get Python to display `g(x)` as a formula like the one above, but we can ask it to evaluate our function at some points:"
   ]
  },
  {
   "cell_type": "code",
   "execution_count": null,
   "metadata": {},
   "outputs": [],
   "source": [
    "g(0), g(1), g(np.pi)"
   ]
  },
  {
   "cell_type": "markdown",
   "metadata": {},
   "source": [
    "## Let's look at Limits!"
   ]
  },
  {
   "cell_type": "markdown",
   "metadata": {},
   "source": [
    "### The concept of a limit\n",
    "\n",
    "The **limit** concept is a difficult one, but it's essential to understanding calculus.\n",
    "When we write\n",
    "\n",
    "$$\\lim_{x\\to c}f(x) = L,$$\n",
    "\n",
    "we are saying that the values of $f(x)$ can be made as close to $L$ as we want,\n",
    "as long as we use an $x$ value that's close enough to $c$.\n",
    "\n",
    "Crucially, we do not allow $x$ to equal $c$ in the definition. It can get close, but never equal.\n",
    "\n",
    "Run the next cell to display an interactive graph of a function. Notice how the $y$ values change as we drag $x$. At what points does it appear as though our function does not have a limit?"
   ]
  },
  {
   "cell_type": "code",
   "execution_count": null,
   "metadata": {},
   "outputs": [],
   "source": [
    "%%html\n",
    "<iframe scrolling=\"no\" title=\"Function demo for Jupyter\" src=\"https://www.geogebra.org/material/iframe/id/j7yaaxr9/width/599/height/349/border/888888/sfsb/true/smb/false/stb/false/stbh/false/ai/false/asb/false/sri/true/rc/false/ld/false/sdz/true/ctl/false\" width=\"599px\" height=\"349px\" style=\"border:0px;\"> </iframe>"
   ]
  },
  {
   "cell_type": "markdown",
   "metadata": {},
   "source": [
    "## An algebraic limit\n",
    "\n",
    "Consider the following example:\n",
    "\n",
    "$$\\lim_{x\\to 2}\\frac{x^2-5x+6}{x^2-4}=-\\frac14.$$\n",
    "\n",
    "Why is this true?\n",
    "\n",
    "First, look at the graph:"
   ]
  },
  {
   "cell_type": "code",
   "execution_count": null,
   "metadata": {},
   "outputs": [],
   "source": [
    "%html\n",
    "<iframe scrolling=\"no\" title=\"Limit material for Jupyter 2\" src=\"https://www.geogebra.org/material/iframe/id/sqwrhfup/width/598/height/400/border/888888/sfsb/true/smb/false/stb/true/stbh/false/ai/false/asb/false/sri/true/rc/false/ld/false/sdz/true/ctl/false\" width=\"598px\" height=\"400px\" style=\"border:0px;\"> </iframe>"
   ]
  },
  {
   "cell_type": "markdown",
   "metadata": {},
   "source": [
    "We can also enter this function into the computer, and analyze it."
   ]
  },
  {
   "cell_type": "code",
   "execution_count": null,
   "metadata": {},
   "outputs": [],
   "source": [
    "f = (x**2-5*x+6)/(x**2-4)\n",
    "f"
   ]
  },
  {
   "cell_type": "markdown",
   "metadata": {},
   "source": [
    "We can ask SymPy to evaluate the limit. The syntax is `sy.limit(function, variable, value)`. Let's try it!"
   ]
  },
  {
   "cell_type": "code",
   "execution_count": null,
   "metadata": {},
   "outputs": [],
   "source": [
    "sy.limit(f,x,2)"
   ]
  },
  {
   "cell_type": "markdown",
   "metadata": {},
   "source": [
    "All signs seem to point to a limit of $-\\frac14$. How do we see this for ourselves?\n",
    "\n",
    "Note that a limit is necessary here: $f(2)$ is undefined.\n",
    "\n",
    "If we try to put $x=2$, we get the nonsensical result of $\\frac00$.\n",
    "\n",
    "But this is a *rational function*: the top and bottom are both *polynomials*.\n",
    "\n",
    "For any polynomial $p(x)$, if $p(a)=0$, then $(x-a)$ is a factor!\n",
    "\n",
    "So we should be able to factor out $(x-2)$ from both top and bottom:\n",
    "\n",
    "$$f(x) = \\frac{x^2-5x+6}{x^2-4} = \\frac{(x-2)(x-3)}{(x-2)(x+2)}$$\n",
    "\n",
    "Next, you want to cancel the $x-2$ factors and proceed.\n",
    "\n",
    "But it would be **false** to write $f(x)=\\dfrac{x-3}{x+2}$, because we lose the exception $x\\neq 2$.\n",
    "\n",
    "Here's where limits come to the rescue!\n",
    "\n",
    "Remember: in $\\lim\\limits_{x\\to 2}f(x)$, we consider values of $x$ close to 2, *but not equal to 2*. \n",
    "\n",
    "Since we don't let $x=2$, we're allowed to cancel, and after that, the properties of limits take over:\n",
    "\n",
    "$$\\begin{aligned}\\lim_{x\\to 2}f(x) &= \\lim_{x\\to 2}\\frac{x^2-5x+6}{x^2-4}\\\\\n",
    "&= \\lim_{x\\to 2}\\frac{(x-2)(x-3)}{(x-2)(x+2)}\\\\\n",
    "&= \\lim_{x\\to 2}\\frac{x-3}{x+2}\\\\\n",
    "&= \\frac{\\lim_{x\\to 2}(x-3)}{\\lim_{x\\to 2}(x+2)}\\\\\n",
    "&= \\frac{2-3}{2+2} = -\\frac14,\\end{aligned}$$\n",
    "\n",
    "just as we expected."
   ]
  },
  {
   "cell_type": "markdown",
   "metadata": {},
   "source": [
    "## A trigonometric limit\n",
    "\n",
    "Next, we're going to explore the limit\n",
    "\n",
    "$$\\lim_{x\\to 0}\\dfrac{\\sin(x)}{x}.$$\n",
    "\n",
    "Like the last example, trying to evaluate directly results in $\\frac00$.\n",
    "\n",
    "Unlike the last example, we cannot simply factor an $x$ out from the top to cancel it.\n",
    "\n",
    "To get an idea of what we're dealing with, we'll first explore numerically and graphically.\n",
    "\n",
    "Let's start by defining our function. Note that we need to specify that the `sin` function comes from the SymPy library with the `np.` prefix,\n",
    "because we are going to start by investigating numerically."
   ]
  },
  {
   "cell_type": "code",
   "execution_count": null,
   "metadata": {},
   "outputs": [],
   "source": [
    "def g(x):\n",
    "  if x == 0:\n",
    "        return \"not defined\" # because sin(0)/0 is indeterminate\n",
    "  return np.sin(x)/x"
   ]
  },
  {
   "cell_type": "markdown",
   "metadata": {},
   "source": [
    "First, we define our function:"
   ]
  },
  {
   "cell_type": "markdown",
   "metadata": {},
   "source": [
    "Next we choose some $x$ values to test our function near $x = 0$:"
   ]
  },
  {
   "cell_type": "code",
   "execution_count": null,
   "metadata": {},
   "outputs": [],
   "source": [
    "x_values = [-0.1, -0.01, -0.001, -0.0001, 0, 0.0001, 0.001, 0.01, 0.1] # using a list"
   ]
  },
  {
   "cell_type": "markdown",
   "metadata": {},
   "source": [
    "Now we compute the corresponding $f(x)$ values for the chosen $x$ values and store them:"
   ]
  },
  {
   "cell_type": "code",
   "execution_count": null,
   "metadata": {},
   "outputs": [],
   "source": [
    "results = [] # storing in a list\n",
    "\n",
    "# using a loop to compute values and set up table's columns\n",
    "for value in x_values:\n",
    "    results.append([value, f(value)]) "
   ]
  },
  {
   "cell_type": "markdown",
   "metadata": {},
   "source": [
    "Let's display our results in a table:"
   ]
  },
  {
   "cell_type": "code",
   "execution_count": null,
   "metadata": {},
   "outputs": [],
   "source": [
    "print(\"x\", \" \"*6, \"| f(x)\") # column headings\n",
    "print(\"-\"*29) \n",
    "for result in results:\n",
    "    print (result[0], \" \"*(7 - len(str(result[0]))), \"|\", result[1]) # formatting the table"
   ]
  },
  {
   "cell_type": "markdown",
   "metadata": {},
   "source": [
    "The table helps to illustrate the function's behaviour near $x = 0$, and given this behaviour, it appears that\n",
    "\n",
    "$$\\lim_{x\\to 0}\\dfrac{\\sin(x)}{x} =  1.$$\n",
    "\n",
    "We can also see this by looking at the graph:\n",
    "    "
   ]
  },
  {
   "cell_type": "code",
   "execution_count": null,
   "metadata": {},
   "outputs": [],
   "source": [
    "plot(g(x),(x,-0.5,0.5))"
   ]
  },
  {
   "cell_type": "markdown",
   "metadata": {},
   "source": [
    "Establishing this result as fact is actually quite a bit of work, involving a fair amount of trigonometry, and a result called the *squeeze theorem*. But for now, we'll cheat and ask the computer to evaluate the limit, using SymPy."
   ]
  },
  {
   "cell_type": "markdown",
   "metadata": {},
   "source": [
    "### **Evaluating Limits Using SymPy**"
   ]
  },
  {
   "cell_type": "markdown",
   "metadata": {},
   "source": [
    "To evaluate limits using SymPy, we can use the `limit()` function. The syntax is\n",
    "```\n",
    "sy.limit(expression,variable,value)\n",
    "```\n",
    "where `expression` is the function, the `variable` is usually (but not always) `x`, and the `value` is the point at which you want to take the limit.\n",
    "\n",
    "Below are some examples:"
   ]
  },
  {
   "cell_type": "markdown",
   "metadata": {},
   "source": [
    "Let's start with the example we've already seen:  \n",
    "\n",
    "$\\displaystyle \\lim_{x\\to 0}\\dfrac{\\sin(x)}{x}$\n",
    "\n",
    "Since Sympy has already been imported, and $x$ has been set as symbol, we can get straight into representing the function and evaluating:\n"
   ]
  },
  {
   "cell_type": "code",
   "execution_count": null,
   "metadata": {},
   "outputs": [],
   "source": [
    "f = sy.sin(x)/x\n",
    "f"
   ]
  },
  {
   "cell_type": "code",
   "execution_count": null,
   "metadata": {},
   "outputs": [],
   "source": [
    "sy.limit(f, x, 0) "
   ]
  },
  {
   "cell_type": "markdown",
   "metadata": {},
   "source": [
    "From our result it appears that:\n",
    "\n",
    "$$\\lim_{x\\to 0}\\dfrac{\\sin(x)}{x} =  1.$$\n",
    "\n",
    "But how do we *know* this? Let's see how the squeeze theorem is used. Consider the following unit circle diagram. Try dragging the point on the circle.\n",
    "\n",
    "Notice how the length $\\theta$ of the circular arc (in red) is always between the vertical line on the left (in blue, of length $\\sin(\\theta)$),\n",
    "and the vertical line on the right (in green, of length $\\tan(\\theta)$)."
   ]
  },
  {
   "cell_type": "code",
   "execution_count": null,
   "metadata": {},
   "outputs": [],
   "source": [
    "%html\n",
    "<iframe scrolling=\"no\" title=\"Limit Material for Jupyter 1\" src=\"https://www.geogebra.org/material/iframe/id/zdtuv9mq/width/510/height/353/border/888888/sfsb/true/smb/false/stb/false/stbh/false/ai/false/asb/false/sri/true/rc/false/ld/false/sdz/true/ctl/false\" width=\"510px\" height=\"353px\" style=\"border:0px;\"> </iframe>"
   ]
  },
  {
   "cell_type": "markdown",
   "metadata": {},
   "source": [
    "This gives the inequality\n",
    "$$\\sin(\\theta)\\leq \\theta\\leq \\tan(\\theta).$$\n",
    "\n",
    "If we take reciprocals and multiply everything by $\\sin(\\theta)$, we get the inequality\n",
    "$$\\cos(\\theta)\\leq \\frac{\\sin(\\theta)}{\\theta}\\leq 1,$$\n",
    "when $\\theta>0$. A similar result holds when $\\theta<0$.\n",
    "\n",
    "In the diagram below, you can see how, as $\\theta\\to 0$, the value of $\\sin(\\theta)/\\theta$ is \"squeezed\" between $\\cos(\\theta)$ and $1$:"
   ]
  },
  {
   "cell_type": "code",
   "execution_count": null,
   "metadata": {},
   "outputs": [],
   "source": [
    "%html\n",
    "<iframe scrolling=\"no\" title=\"Limit material for Jupyter 3\" src=\"https://www.geogebra.org/material/iframe/id/gfa5pqeh/width/736/height/367/border/888888/sfsb/true/smb/false/stb/false/stbh/false/ai/false/asb/false/sri/true/rc/false/ld/false/sdz/true/ctl/false\" width=\"736px\" height=\"367px\" style=\"border:0px;\"> </iframe>"
   ]
  },
  {
   "cell_type": "markdown",
   "metadata": {},
   "source": [
    "## Some further limit practice\n",
    "\n",
    "Now for some more!\n",
    "\n",
    "  \n",
    "Let's evaluate:\n",
    "\n",
    "$\\displaystyle \\lim_{x\\to 1}{(x^2 + 2x + 2)}$"
   ]
  },
  {
   "cell_type": "code",
   "execution_count": null,
   "metadata": {},
   "outputs": [],
   "source": [
    "f1 = x**2 + 2*x + 2\n",
    "f1"
   ]
  },
  {
   "cell_type": "code",
   "execution_count": null,
   "metadata": {},
   "outputs": [],
   "source": [
    "sy.limit(f1, x, 1)"
   ]
  },
  {
   "cell_type": "markdown",
   "metadata": {},
   "source": [
    "The above result makes sense according to the limit properties. In particular, we know that we can evaluate the limit of a polynomial function by simply plugging in the number.\n",
    "\n",
    "In the next example, plugging in $x=1$ would give us an answer of $0/0$, which is undefined. Such expressions are called *indeterminate forms*. We saw this earlier with the expression $\\sin(x)/x$.\n",
    "\n",
    "Despite the $0/0$ result, we still get a limit!"
   ]
  },
  {
   "cell_type": "markdown",
   "metadata": {},
   "source": [
    "Example 1: $\\displaystyle \\lim_{x\\to 1}\\dfrac{x^2 -1}{x-1}$"
   ]
  },
  {
   "cell_type": "code",
   "execution_count": null,
   "metadata": {},
   "outputs": [],
   "source": [
    "f2 = (x**2 - 1) / (x - 1)\n",
    "f2"
   ]
  },
  {
   "cell_type": "code",
   "execution_count": null,
   "metadata": {},
   "outputs": [],
   "source": [
    "sy.limit(f2, x, 1)"
   ]
  },
  {
   "cell_type": "markdown",
   "metadata": {},
   "source": [
    "The reason we can evaluate this limit can be seen if we factor the numerator:"
   ]
  },
  {
   "cell_type": "code",
   "execution_count": null,
   "metadata": {},
   "outputs": [],
   "source": [
    "sy.factor(x**2-1)"
   ]
  },
  {
   "cell_type": "markdown",
   "metadata": {},
   "source": [
    "Both numerator and denominator have the factor $x-1$. Since the limit involves values of $x$ that are *close*, **but not equal to** 1, we can cancel this factor from top and bottom, and then evaluate."
   ]
  },
  {
   "cell_type": "markdown",
   "metadata": {},
   "source": [
    "Example 2: $\\displaystyle \\lim_{x\\to -3}\\dfrac{x^2 +10x + 21}{x^2+5x+6}$"
   ]
  },
  {
   "cell_type": "code",
   "execution_count": null,
   "metadata": {},
   "outputs": [],
   "source": [
    "f3 = (x**2 + 10*x + 21) / (x**2 + 5*x + 6)\n",
    "f3"
   ]
  },
  {
   "cell_type": "code",
   "execution_count": null,
   "metadata": {},
   "outputs": [],
   "source": [
    "sy.limit(f3, x, -3)"
   ]
  },
  {
   "cell_type": "markdown",
   "metadata": {},
   "source": [
    "SymPy can also handle limits at infinity. The infinity symbol is entered as `oo` (that's the letter o, twice). But we need to specify that it comes from SymPy, so we type `sy.oo`."
   ]
  },
  {
   "cell_type": "code",
   "execution_count": null,
   "metadata": {},
   "outputs": [],
   "source": [
    "sy.limit(f3,x,sy.oo)"
   ]
  },
  {
   "cell_type": "code",
   "execution_count": null,
   "metadata": {},
   "outputs": [],
   "source": []
  }
 ],
 "metadata": {
  "kernelspec": {
   "display_name": "Python 3 (ipykernel)",
   "language": "python",
   "name": "python3"
  },
  "language_info": {
   "codemirror_mode": {
    "name": "ipython",
    "version": 3
   },
   "file_extension": ".py",
   "mimetype": "text/x-python",
   "name": "python",
   "nbconvert_exporter": "python",
   "pygments_lexer": "ipython3",
   "version": "3.12.3"
  }
 },
 "nbformat": 4,
 "nbformat_minor": 4
}
